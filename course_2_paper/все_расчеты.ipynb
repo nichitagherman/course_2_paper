{
 "cells": [
  {
   "cell_type": "code",
   "execution_count": 443,
   "metadata": {
    "collapsed": false
   },
   "outputs": [],
   "source": [
    "import scipy as sp\n",
    "import numpy as np\n",
    "import pandas as pd\n",
    "import matplotlib.pyplot as plt\n",
    "import scipy.stats as stats\n",
    "import seaborn as sns\n",
    "%matplotlib inline"
   ]
  },
  {
   "cell_type": "markdown",
   "metadata": {},
   "source": [
    "## Обработка признаков конфликтов"
   ]
  },
  {
   "cell_type": "code",
   "execution_count": 3,
   "metadata": {
    "collapsed": false
   },
   "outputs": [],
   "source": [
    "df_conflicts = pd.read_csv(\"conflicts.csv\", sep = \";\")"
   ]
  },
  {
   "cell_type": "code",
   "execution_count": 4,
   "metadata": {
    "collapsed": false
   },
   "outputs": [],
   "source": [
    "df_conflicts = df_conflicts.drop_duplicates()"
   ]
  },
  {
   "cell_type": "code",
   "execution_count": 5,
   "metadata": {
    "collapsed": false
   },
   "outputs": [
    {
     "data": {
      "text/plain": [
       "array(['Year', 'Country1', 'Country2', 'Country3', 'Urban/rural',\n",
       "       'Internal (0) / External (1)'], dtype=object)"
      ]
     },
     "execution_count": 5,
     "metadata": {},
     "output_type": "execute_result"
    }
   ],
   "source": [
    "df_conflicts.columns.values"
   ]
  },
  {
   "cell_type": "code",
   "execution_count": 6,
   "metadata": {
    "collapsed": false
   },
   "outputs": [],
   "source": [
    "df_conflicts = df_conflicts.replace('-',np.nan)"
   ]
  },
  {
   "cell_type": "code",
   "execution_count": 7,
   "metadata": {
    "collapsed": false
   },
   "outputs": [],
   "source": [
    "countries_sum = pd.Series(list(df_conflicts['Country1'].values) + list(df_conflicts['Country2'].values) + list(df_conflicts['Country3'].values))"
   ]
  },
  {
   "cell_type": "markdown",
   "metadata": {},
   "source": [
    "#### Список всех конфликты"
   ]
  },
  {
   "cell_type": "code",
   "execution_count": 8,
   "metadata": {
    "collapsed": false,
    "scrolled": false
   },
   "outputs": [
    {
     "data": {
      "text/plain": [
       "India                               12\n",
       "Kenya                               10\n",
       "China                               10\n",
       "Somalia                              9\n",
       "Kyrgyzstan                           7\n",
       "Uzbekistan                           6\n",
       "Tajikistan                           5\n",
       "Ethiopia                             5\n",
       "Kazakhstan                           4\n",
       "Egypt                                4\n",
       "Pakistan                             4\n",
       "Occupied Palestinian Territory       4\n",
       "Afghanistan                          4\n",
       "Iran (Islamic Republic of)           4\n",
       "Sudan                                4\n",
       "Yemen                                3\n",
       "South Africa                         3\n",
       "Bangladesh                           2\n",
       "Cote D'Ivoire                        2\n",
       "Tanzania                             2\n",
       "Mexico                               2\n",
       "Syrian Arab Republic                 2\n",
       "Israel                               2\n",
       "Nigeria                              2\n",
       "Peru                                 2\n",
       "Indonesia                            2\n",
       "Turkmenistan                         2\n",
       "Bolivia (Plurinational State of)     2\n",
       "Mali                                 2\n",
       "Chechoslovakia                       1\n",
       "Botswana                             1\n",
       "Ghana                                1\n",
       "South Sudan                          1\n",
       "Mauritania                           1\n",
       "Sri Lanka                            1\n",
       "Cote d'Ivoire                        1\n",
       "Botwana                              1\n",
       "Uganda                               1\n",
       "Guinea                               1\n",
       "Central African Republic             1\n",
       "Colombia                             1\n",
       "Jordan                               1\n",
       "Palestine                            1\n",
       "Namibia                              1\n",
       "Iraq                                 1\n",
       "Burkina Faso                         1\n",
       "Brazil                               1\n",
       "Algeria                              1\n",
       "Libya                                1\n",
       "Tunisia                              1\n",
       "Solomon Islands                      1\n",
       "Morocco                              1\n",
       "dtype: int64"
      ]
     },
     "execution_count": 8,
     "metadata": {},
     "output_type": "execute_result"
    }
   ],
   "source": [
    "countries_sum.value_counts()"
   ]
  },
  {
   "cell_type": "code",
   "execution_count": 9,
   "metadata": {
    "collapsed": false,
    "scrolled": false
   },
   "outputs": [],
   "source": [
    "countries = countries_sum.value_counts()[countries_sum.value_counts() >= 4]"
   ]
  },
  {
   "cell_type": "markdown",
   "metadata": {},
   "source": [
    "Страны, подверженные водным конфликтам с 1990 - 2015 год"
   ]
  },
  {
   "cell_type": "code",
   "execution_count": 10,
   "metadata": {
    "collapsed": false,
    "scrolled": true
   },
   "outputs": [
    {
     "data": {
      "text/plain": [
       "India                             12\n",
       "Kenya                             10\n",
       "China                             10\n",
       "Somalia                            9\n",
       "Kyrgyzstan                         7\n",
       "Uzbekistan                         6\n",
       "Tajikistan                         5\n",
       "Ethiopia                           5\n",
       "Kazakhstan                         4\n",
       "Egypt                              4\n",
       "Pakistan                           4\n",
       "Occupied Palestinian Territory     4\n",
       "Afghanistan                        4\n",
       "Iran (Islamic Republic of)         4\n",
       "Sudan                              4\n",
       "dtype: int64"
      ]
     },
     "execution_count": 10,
     "metadata": {},
     "output_type": "execute_result"
    }
   ],
   "source": [
    "countries"
   ]
  },
  {
   "cell_type": "code",
   "execution_count": 11,
   "metadata": {
    "collapsed": false
   },
   "outputs": [],
   "source": [
    "df1 = pd.read_csv(\"aquastat-5.csv\", sep = ',')"
   ]
  },
  {
   "cell_type": "code",
   "execution_count": 12,
   "metadata": {
    "collapsed": false
   },
   "outputs": [
    {
     "data": {
      "text/plain": [
       "array(['Area', 'Area Id', 'Variable Name', 'Variable Id', 'Year', 'Value',\n",
       "       'Symbol', 'Md', 'gfg'], dtype=object)"
      ]
     },
     "execution_count": 12,
     "metadata": {},
     "output_type": "execute_result"
    }
   ],
   "source": [
    "df1.columns.values"
   ]
  },
  {
   "cell_type": "code",
   "execution_count": 13,
   "metadata": {
    "collapsed": false
   },
   "outputs": [],
   "source": [
    "df1['Area'] = df1['Area'].replace('C̫te d\\'Ivoire','Cote d\\'Ivoire')\n",
    "df1['Variable Name'] = df1['Variable Name'].replace('Human Development Index (HDI) ','Human Development Index (HDI)')"
   ]
  },
  {
   "cell_type": "code",
   "execution_count": 14,
   "metadata": {
    "collapsed": false
   },
   "outputs": [],
   "source": [
    "def func(x):\n",
    "    if x in countries:\n",
    "        return 1\n",
    "    else:\n",
    "        return -1\n",
    "df1['Conflicts'] = df1['Area'].apply(func)"
   ]
  },
  {
   "cell_type": "code",
   "execution_count": 15,
   "metadata": {
    "collapsed": false
   },
   "outputs": [],
   "source": [
    "df1 = df1[['Area','Variable Name','Year','Value','Conflicts']]"
   ]
  },
  {
   "cell_type": "markdown",
   "metadata": {},
   "source": [
    "#### Создадим  DataSets 1988, 1993, 1998, ...., которые отражают значения всех признаков в базе Aquastat для стран в соответствующие временные промежутки"
   ]
  },
  {
   "cell_type": "code",
   "execution_count": 16,
   "metadata": {
    "collapsed": false
   },
   "outputs": [],
   "source": [
    "y1 = list(df1['Variable Name'].unique())\n",
    "x1 = df1['Area'].unique()\n",
    "dic = {}\n",
    "for i in [1988 + x for x in range(0,28,5)]:\n",
    "    dic['df'+str(i)] = pd.DataFrame([],columns = y1 + ['Conflicts'], index = x1)\n",
    "    df3 = df1[df1['Year'].isin([i + x for x in range(5)])]\n",
    "    for m in x1:\n",
    "        for j in y1:\n",
    "            x = df3[(df3['Area'] == m) & (df3['Variable Name'] == j)]['Value']\n",
    "            if x.values:\n",
    "                dic['df'+str(i)].loc[[m],[j]] = x.values\n",
    "            elif x.values == 0:\n",
    "                dic['df'+str(i)].loc[[m],[j]] = x.values\n",
    "        dic['df'+str(i)].loc[[m],['Conflicts']] = df1[df1['Area'] == m]['Conflicts'].unique()[0]"
   ]
  },
  {
   "cell_type": "code",
   "execution_count": 17,
   "metadata": {
    "collapsed": false
   },
   "outputs": [],
   "source": [
    "for i in [1988 + x for x in range(0,28,5)]:\n",
    "    dic['df'+str(i)][dic['df'+str(i)].columns.values[:-1]] = dic['df'+str(i)][dic['df'+str(i)].columns.values[:-1]].astype(float)"
   ]
  },
  {
   "cell_type": "code",
   "execution_count": 18,
   "metadata": {
    "collapsed": false
   },
   "outputs": [],
   "source": [
    "z = []\n",
    "otvet = []\n",
    "for i in dic.keys():\n",
    "    z.append(dic[i].loc[['Afghanistan'],:].values[0])\n",
    "for k in range(len(z[0])):\n",
    "    if z[0][k] == z[1][k] and z[1][k] == z[2][k] and z[2][k] == z[3][k]:\n",
    "        otvet.append(k)"
   ]
  },
  {
   "cell_type": "markdown",
   "metadata": {},
   "source": [
    "Первые 10 объектов для таблицы 2013 года"
   ]
  },
  {
   "cell_type": "code",
   "execution_count": 19,
   "metadata": {
    "collapsed": true
   },
   "outputs": [],
   "source": [
    "dic['df2013']['Total population'].to_csv('shablon.csv', sep = \";\")"
   ]
  },
  {
   "cell_type": "markdown",
   "metadata": {},
   "source": [
    "#### Корреляционная матрица"
   ]
  },
  {
   "cell_type": "code",
   "execution_count": 20,
   "metadata": {
    "collapsed": false,
    "scrolled": false
   },
   "outputs": [
    {
     "data": {
      "image/png": "[encoded data removed]",
      "text/plain": [
       "<matplotlib.figure.Figure at 0x10fc0ee80>"
      ]
     },
     "metadata": {},
     "output_type": "display_data"
    }
   ],
   "source": [
    "sns.set(style=\"white\")\n",
    "\n",
    "\n",
    "# Compute the correlation matrix\n",
    "corr = dic['df2013'][dic['df2013'].columns.values[:-1]].corr()\n",
    "\n",
    "# Generate a mask for the upper triangle\n",
    "mask = np.zeros_like(corr, dtype=np.bool)\n",
    "mask[np.triu_indices_from(mask)] = True\n",
    "\n",
    "# Set up the matplotlib figure\n",
    "f, ax = plt.subplots(figsize=(11, 9))\n",
    "\n",
    "# Generate a custom diverging colormap\n",
    "cmap = sns.diverging_palette(220, 10, as_cmap=True)\n",
    "\n",
    "# Draw the heatmap with the mask and correct aspect ratio\n",
    "sns.heatmap(corr, mask=mask, cmap=cmap, vmax=.3,\n",
    "            square=True,\n",
    "            linewidths=.5, cbar_kws={\"shrink\": .5}, ax=ax)\n",
    "plt.show()"
   ]
  },
  {
   "cell_type": "markdown",
   "metadata": {},
   "source": [
    "#### Проследим за зависимостью Agricultural, Industrial, Municipal water withdrawal % total withdrawal"
   ]
  },
  {
   "cell_type": "code",
   "execution_count": 23,
   "metadata": {
    "collapsed": false,
    "scrolled": true
   },
   "outputs": [],
   "source": [
    "df = df.dropna()\n",
    "for x in ['Agricultural water withdrawal','Industrial water withdrawal',\n",
    "          'Municipal water withdrawal']:\n",
    "    for y in df.index:\n",
    "        df.at[y, x] = df.at[y, x] / df.at[y,'Total water withdrawal']"
   ]
  },
  {
   "cell_type": "code",
   "execution_count": 24,
   "metadata": {
    "collapsed": false
   },
   "outputs": [],
   "source": [
    "df = df.drop('Total water withdrawal', 1)\n",
    "df['GDP per capita'] = df['GDP per capita'].apply(np.log)"
   ]
  },
  {
   "cell_type": "code",
   "execution_count": 25,
   "metadata": {
    "collapsed": false
   },
   "outputs": [
    {
     "data": {
      "image/png": "[encoded data removed]",
      "text/plain": [
       "<matplotlib.figure.Figure at 0x114b07ba8>"
      ]
     },
     "metadata": {},
     "output_type": "display_data"
    }
   ],
   "source": [
    "sns_plot = sns.pairplot(data = df, hue = \"Conflicts\", vars = ['Agricultural water withdrawal','Industrial water withdrawal',\n",
    "          'Municipal water withdrawal','GDP per capita'], size=4, dropna=True)\n",
    "fig = sns_plot\n",
    "fig.savefig(\"output\", format = 'png', dpi = 300)\n",
    "plt.show()\n",
    "plt.show()"
   ]
  },
  {
   "cell_type": "markdown",
   "metadata": {},
   "source": [
    "#### Ввод признаков"
   ]
  },
  {
   "cell_type": "markdown",
   "metadata": {},
   "source": [
    "Признак №1: Средний за 1990 - 2015 года объем доступных внутренних водных ресурсов на душу населения (население взято везде далее среднее за 1990 - 2015)"
   ]
  },
  {
   "cell_type": "code",
   "execution_count": 26,
   "metadata": {
    "collapsed": true
   },
   "outputs": [],
   "source": [
    "df = pd.DataFrame([])"
   ]
  },
  {
   "cell_type": "code",
   "execution_count": 27,
   "metadata": {
    "collapsed": false
   },
   "outputs": [],
   "source": [
    "population = 0\n",
    "for y in dic['df2013'].index:\n",
    "    count = 0\n",
    "    for x in [1988 + x for x in range(0,28,5)]:\n",
    "        ### Средняя численность населения за 1990 - 2015 в регионе\n",
    "        if ~np.isnan(dic['df' + str(x)].at[y, 'Total population']):\n",
    "            population += dic['df' + str(x)].at[y, 'Total population']\n",
    "            count += 1\n",
    "    population = population / count\n",
    "    for z in ['Total internal renewable water resources (IRWR)']:\n",
    "        if ~ np.isnan(dic['df2013'].at[y, z]):\n",
    "            df.at[y, 'Total internal renewable water resources (IRWR) per capita (1990 - 2015)'] = dic['df2013'].at[y, z] / population * 1000000\n",
    "    population = 0"
   ]
  },
  {
   "cell_type": "markdown",
   "metadata": {},
   "source": [
    "Признак №2: Фактический объем водных ресурсов на душу населения, поступающих из-за границы, которые не подчиняется никаким специальным договорам, регулирующим объемы потребления этих водных ресурсов (как правило, это 50% всех возобновляемых объемов водных ресурсов из рек, протекающих и за границей) <br/> <br/>\n",
    "Признак №3: Фактический объем водных ресурсов на душу населения, из протекающих по границе рекам, который доступен стране для потребления (как правило, это 50% всех возобновляемых объемов таких рек, если 2 страны)"
   ]
  },
  {
   "cell_type": "code",
   "execution_count": 28,
   "metadata": {
    "collapsed": false,
    "scrolled": true
   },
   "outputs": [],
   "source": [
    "population = 0\n",
    "for y in dic['df2013'].index:\n",
    "    count = 0\n",
    "    for x in [1988 + x for x in range(0,28,5)]:\n",
    "        ### Средняя численность населения за 1990 - 2015 в регионе\n",
    "        if ~np.isnan(dic['df' + str(x)].at[y, 'Total population']):\n",
    "            population += dic['df' + str(x)].at[y, 'Total population']\n",
    "            count += 1\n",
    "    population = population / count\n",
    "    for z in ['Surface water: inflow not submitted to treaties', 'Surface water: accounted flow of border rivers',]:\n",
    "        if ~ np.isnan(dic['df2013'].at[y, z]):\n",
    "            df.at[y, z + ' per capita (1990 - 2015)'] = dic['df2013'].at[y, z] / population * 1000000\n",
    "    population = 0"
   ]
  },
  {
   "cell_type": "markdown",
   "metadata": {},
   "source": [
    "Признак №4: Фактический среднегодовой объем водных ресурсов на душу населения из внешних возобновляемых подземных источников, доступных стране"
   ]
  },
  {
   "cell_type": "code",
   "execution_count": 29,
   "metadata": {
    "collapsed": false
   },
   "outputs": [],
   "source": [
    "df_groundwater = pd.read_csv('groundwater.csv', sep = ',')"
   ]
  },
  {
   "cell_type": "code",
   "execution_count": 30,
   "metadata": {
    "collapsed": true
   },
   "outputs": [],
   "source": [
    "df_groundwater = df_groundwater[['\\ufeff\"\"', '2008-2012', 'Unnamed: 1']]"
   ]
  },
  {
   "cell_type": "code",
   "execution_count": 31,
   "metadata": {
    "collapsed": true
   },
   "outputs": [],
   "source": [
    "df_groundwater['\\ufeff\"\"'] = df_groundwater['\\ufeff\"\"'].replace('Côte d\\'Ivoire','Cote d\\'Ivoire')"
   ]
  },
  {
   "cell_type": "code",
   "execution_count": 32,
   "metadata": {
    "collapsed": false
   },
   "outputs": [],
   "source": [
    "population = 0\n",
    "for y in df_groundwater['\\ufeff\"\"'].unique():\n",
    "    if y in dic['df2013'].index:\n",
    "        count = 0\n",
    "        for x in [1988 + x for x in range(0,28,5)]:\n",
    "            ### Средняя численность населения за 1990 - 2015 в регионе\n",
    "            if ~np.isnan(dic['df' + str(x)].at[y, 'Total population']):\n",
    "                population += dic['df' + str(x)].at[y, 'Total population']\n",
    "                count += 1\n",
    "        population = population / count\n",
    "        for z in ['Groundwater produced internally (10^9 m3/year)',\\\n",
    "                  'Groundwater: entering the country (total) (10^9 m3/year)']:\n",
    "            if len(df_groundwater[(df_groundwater['Unnamed: 1'] == z)\\\n",
    "                                & (df_groundwater['\\ufeff\"\"'] == y)]['2008-2012'].values) != 0:\n",
    "                if z == 'Groundwater produced internally (10^9 m3/year)':\n",
    "                    continue\n",
    "                else:\n",
    "                    df.at[y, 'Groundwater entering the country per capita (2013)'] =\\\n",
    "                    float(df_groundwater[(df_groundwater['Unnamed: 1'] == z)\\\n",
    "                                    & (df_groundwater['\\ufeff\"\"'] == y)]['2008-2012'].values[0])/population * 1000000\n",
    "        population = 0"
   ]
  },
  {
   "cell_type": "markdown",
   "metadata": {},
   "source": [
    "Признак №5: Interannual vulnerability"
   ]
  },
  {
   "cell_type": "code",
   "execution_count": 33,
   "metadata": {
    "collapsed": true
   },
   "outputs": [],
   "source": [
    "df['Interannual variability (WRI)'] = dic['df2013']['Interannual variability (WRI)']    "
   ]
  },
  {
   "cell_type": "markdown",
   "metadata": {},
   "source": [
    "Признак №6: Dependency ratio"
   ]
  },
  {
   "cell_type": "code",
   "execution_count": 34,
   "metadata": {
    "collapsed": false
   },
   "outputs": [],
   "source": [
    "df['Dependency ratio'] = dic['df2013']['Dependency ratio']"
   ]
  },
  {
   "cell_type": "markdown",
   "metadata": {},
   "source": [
    "Признак №7: Доля воды, использованная сельскохозяйственным сектором из общего объема потребленных водных ресурсов"
   ]
  },
  {
   "cell_type": "code",
   "execution_count": 35,
   "metadata": {
    "collapsed": false,
    "scrolled": true
   },
   "outputs": [],
   "source": [
    "### Ввод новой переменной - доля воды потребленной внутренней/внешней\n",
    "for i in [1988 + x for x in range(0,28,5)]:\n",
    "    for y in dic['df' + str(i)].index:\n",
    "        for z in ['Agricultural water withdrawal', 'Industrial water withdrawal','Municipal water withdrawal']:\n",
    "            if ~np.isnan(dic['df' + str(i)].at[y, z]):\n",
    "                dic['df' + str(i)].at[y, z] = dic['df' + str(i)].at[y, z] / dic['df' + str(i)].at[y,'Total water withdrawal']"
   ]
  },
  {
   "cell_type": "code",
   "execution_count": 36,
   "metadata": {
    "collapsed": false,
    "scrolled": true
   },
   "outputs": [
    {
     "name": "stderr",
     "output_type": "stream",
     "text": [
      "/Users/nichitagherman/anaconda/lib/python3.5/site-packages/numpy/core/_methods.py:82: RuntimeWarning: Degrees of freedom <= 0 for slice\n",
      "  warnings.warn(\"Degrees of freedom <= 0 for slice\", RuntimeWarning)\n"
     ]
    }
   ],
   "source": [
    "result1 = pd.Series([])\n",
    "result = []\n",
    "for i in df1['Area'].unique():\n",
    "    for x in [1988 + x for x in range(0,28,5)]:\n",
    "        if ~ np.isnan(dic['df' + str(x)].at[i, 'Agricultural water withdrawal']):\n",
    "            result.append(dic['df' + str(x)].at[i, 'Agricultural water withdrawal'])\n",
    "    result1[i] = np.array([result]).var()\n",
    "    result = []"
   ]
  },
  {
   "cell_type": "code",
   "execution_count": 37,
   "metadata": {
    "collapsed": false,
    "scrolled": true
   },
   "outputs": [
    {
     "name": "stderr",
     "output_type": "stream",
     "text": [
      "/Users/nichitagherman/anaconda/lib/python3.5/site-packages/numpy/core/_methods.py:82: RuntimeWarning: Degrees of freedom <= 0 for slice\n",
      "  warnings.warn(\"Degrees of freedom <= 0 for slice\", RuntimeWarning)\n"
     ]
    },
    {
     "data": {
      "text/plain": [
       "Albania                               0.601620\n",
       "Algeria                               0.601401\n",
       "Angola                                0.267859\n",
       "Antigua and Barbuda                   0.170428\n",
       "Argentina                             0.746127\n",
       "Australia                             0.659748\n",
       "Austria                               0.027018\n",
       "Bahrain                               0.505146\n",
       "Barbados                              0.676543\n",
       "Belgium                               0.005037\n",
       "Botswana                              0.445052\n",
       "Brazil                                0.585059\n",
       "Bulgaria                              0.188485\n",
       "Burkina Faso                          0.635990\n",
       "Cameroon                              0.556312\n",
       "Canada                                0.091083\n",
       "Central African Republic              0.005780\n",
       "Chad                                  0.777890\n",
       "China                                 0.750691\n",
       "Colombia                              0.589079\n",
       "Cote d'Ivoire                         0.486499\n",
       "Cuba                                  0.554168\n",
       "Cyprus                                0.758528\n",
       "Democratic Republic of the Congo      0.114137\n",
       "Denmark                               0.278720\n",
       "Dominican Republic                    0.827411\n",
       "Ecuador                               0.838134\n",
       "Egypt                                 0.861400\n",
       "El Salvador                           0.562956\n",
       "Fiji                                  0.600462\n",
       "                                        ...   \n",
       "Trinidad and Tobago                   0.048431\n",
       "Tunisia                               0.825737\n",
       "Turkey                                0.737613\n",
       "Uganda                                0.392333\n",
       "United Arab Emirates                  0.760375\n",
       "United Kingdom                        0.095054\n",
       "United States of America              0.350312\n",
       "Venezuela (Bolivarian Republic of)    0.588198\n",
       "Yemen                                 0.909436\n",
       "Zambia                                0.757283\n",
       "Zimbabwe                              0.804894\n",
       "Czech Republic                        0.014143\n",
       "Armenia                               0.593603\n",
       "Azerbaijan                            0.793569\n",
       "Belarus                               0.278894\n",
       "Estonia                               0.008484\n",
       "Kazakhstan                            0.726181\n",
       "Kyrgyzstan                            0.936230\n",
       "Latvia                                0.126555\n",
       "Lithuania                             0.029182\n",
       "Republic of Moldova                   0.214303\n",
       "Russian Federation                    0.198920\n",
       "Slovenia                              0.004907\n",
       "Tajikistan                            0.916113\n",
       "Turkmenistan                          0.962527\n",
       "Ukraine                               0.300638\n",
       "Uzbekistan                            0.913622\n",
       "Eritrea                               0.823258\n",
       "Slovakia                              0.044125\n",
       "Serbia                                0.025655\n",
       "dtype: float64"
      ]
     },
     "execution_count": 37,
     "metadata": {},
     "output_type": "execute_result"
    }
   ],
   "source": [
    "# Описание метода: меньше 2 наблюдений - удаляем. остальные - оставляем, если Var > 0.005\n",
    "result = []\n",
    "result2 = pd.Series([])\n",
    "for i in result1.index:\n",
    "    for x in [1988 + x for x in range(0,28,5)]:\n",
    "        y = dic['df' + str(x)].at[i, 'Agricultural water withdrawal']\n",
    "        if np.isnan(y):\n",
    "            continue\n",
    "        else:\n",
    "            result.append(dic['df' + str(x)].at[i, 'Agricultural water withdrawal'])\n",
    "    if (np.array([result]).var() < 0.05) & (len(result) >= 2):\n",
    "        result2[i] = np.array([result]).mean()\n",
    "    result = []\n",
    "result2"
   ]
  },
  {
   "cell_type": "code",
   "execution_count": 38,
   "metadata": {
    "collapsed": false
   },
   "outputs": [],
   "source": [
    "df['Agricultural water withdrawal'] = result2"
   ]
  },
  {
   "cell_type": "markdown",
   "metadata": {},
   "source": [
    "Признак №8: Средняя за 1990 - 2013 доля населения, имевшая доступ к воде, прошедшей первичную обработку"
   ]
  },
  {
   "cell_type": "code",
   "execution_count": 39,
   "metadata": {
    "collapsed": false,
    "scrolled": true
   },
   "outputs": [],
   "source": [
    "# Отчет начинаем с 1988 - когда появляются данные\n",
    "result = []\n",
    "for y in dic['df2013'].index:\n",
    "    for z in ['Total population with access to safe drinking-water (JMP)']:\n",
    "        for i in [1988 + x for x in range(0,28,5)]:\n",
    "            if ~ np.isnan(dic['df' + str(i)].at[y, z]):\n",
    "                result.append(dic['df' + str(i)].at[y, z])\n",
    "        if result:\n",
    "            df.at[y,z + '(1990 - 2013)'] = np.array([result]).mean()/100\n",
    "        result = []"
   ]
  },
  {
   "cell_type": "markdown",
   "metadata": {},
   "source": [
    "Признак №9: ВВП на душу населения за 2013 год <br/> <br/>\n",
    "Признак №10: Среднегодовые темпы прироста ВВП с 1990 - 2013 год"
   ]
  },
  {
   "cell_type": "code",
   "execution_count": 40,
   "metadata": {
    "collapsed": false
   },
   "outputs": [
    {
     "name": "stderr",
     "output_type": "stream",
     "text": [
      "/Users/nichitagherman/anaconda/lib/python3.5/site-packages/numpy/core/_methods.py:59: RuntimeWarning: Mean of empty slice.\n",
      "  warnings.warn(\"Mean of empty slice.\", RuntimeWarning)\n"
     ]
    }
   ],
   "source": [
    "population = 0\n",
    "result = []\n",
    "for y in dic['df2013'].index:\n",
    "    for x in [1988 + x for x in range(0,28,5)]:\n",
    "        for z in ['GDP per capita']:\n",
    "            if ~ np.isnan(dic['df' + str(x)].at[y, z]):\n",
    "                result.append(dic['df' + str(x)].at[y, z])\n",
    "    df.at[y, z + ' (1990 - 2015)'] = np.array([result]).mean()\n",
    "    result = []"
   ]
  },
  {
   "cell_type": "code",
   "execution_count": 41,
   "metadata": {
    "collapsed": false
   },
   "outputs": [],
   "source": [
    "result = []\n",
    "def func1(y, z, k = 1988):\n",
    "    if k == 2013:\n",
    "        return np.nan\n",
    "    if ~ np.isnan(dic['df' + str(k)].at[y, z]):\n",
    "        return [k, dic['df' + str(k)].at[y, z]]\n",
    "    else:\n",
    "        k += 5\n",
    "        return(func1(y, z, k))\n",
    "def func2(y, z, k = 2013):\n",
    "    if k == 1988:\n",
    "        return np.nan\n",
    "    if ~ np.isnan(dic['df' + str(k)].at[y, z]):\n",
    "        return [k, dic['df' + str(k)].at[y, z]]\n",
    "    else:\n",
    "        k = k - 5\n",
    "        return(func2(y, z, k))\n",
    "for y in dic['df1988'].index:\n",
    "    for z in ['GDP per capita']:\n",
    "        result.append(func1(y, z))\n",
    "        result.append(func2(y, z))\n",
    "        if np.nan in result:\n",
    "            df.at[y,'GDP per capita growth'] = np.nan\n",
    "        else:  \n",
    "            df.at[y,'GDP per capita growth'] = (result[1][1]/result[0][1])**(1/(result[1][0] - result[0][0])) - 1\n",
    "        result = []"
   ]
  },
  {
   "cell_type": "markdown",
   "metadata": {},
   "source": [
    "Признак №11: Средняя за 1990 - 2015 плотность населения"
   ]
  },
  {
   "cell_type": "code",
   "execution_count": 42,
   "metadata": {
    "collapsed": false
   },
   "outputs": [],
   "source": [
    "df_population_density = pd.read_csv('population_density.csv', sep = ',', encoding = \"Windows-1251\")"
   ]
  },
  {
   "cell_type": "code",
   "execution_count": 43,
   "metadata": {
    "collapsed": false
   },
   "outputs": [
    {
     "name": "stderr",
     "output_type": "stream",
     "text": [
      "/Users/nichitagherman/anaconda/lib/python3.5/site-packages/numpy/core/_methods.py:59: RuntimeWarning: Mean of empty slice.\n",
      "  warnings.warn(\"Mean of empty slice.\", RuntimeWarning)\n"
     ]
    }
   ],
   "source": [
    "for i in range(0, df_population_density.shape[0], 2):\n",
    "    row = df_population_density.values[i][0].split(\",\")\n",
    "    result = []\n",
    "    for x in row:\n",
    "        try:\n",
    "            float(x)\n",
    "            num = float(x)\n",
    "            if int(num) == num:\n",
    "                continue\n",
    "            else:\n",
    "                result.append(num)\n",
    "        except ValueError:\n",
    "            continue\n",
    "    if row[0] in df.index:\n",
    "        df.at[row[0], 'population_density'] = np.array([result]).mean()\n",
    "    elif row[0] == 'C“te d\\'Ivoire':\n",
    "        df.at['Cote d\\'Ivoire', 'population_density'] = np.array([result]).mean() "
   ]
  },
  {
   "cell_type": "markdown",
   "metadata": {},
   "source": [
    "Признак № 12: Изменение общей вместимости дамб"
   ]
  },
  {
   "cell_type": "code",
   "execution_count": 44,
   "metadata": {
    "collapsed": true
   },
   "outputs": [],
   "source": [
    "df.at['Denmark', 'Total dam capacity growth'] = 0"
   ]
  },
  {
   "cell_type": "code",
   "execution_count": 45,
   "metadata": {
    "collapsed": false
   },
   "outputs": [],
   "source": [
    "population = 0\n",
    "for y in dic['df2013'].index:\n",
    "    for z in ['Total dam capacity']:\n",
    "        if df1[(df1['Area'] == y) & (df1['Variable Name'] == z)]['Value'].shape[0] < 1:\n",
    "            df.at[y,'Total dam capacity growth'] = np.nan\n",
    "        else:\n",
    "            result = df1[(df1['Area'] == y) & (df1['Variable Name'] == z)]['Value'].unique()\n",
    "            if len(result) == 1:\n",
    "                df.at[y, 'Total dam capacity growth'] = 0\n",
    "            else:\n",
    "                count = 0\n",
    "                for x in [1988 + x for x in range(0,28,5)]:\n",
    "                    ### Средняя численность населения за 1990 - 2015 в регионе\n",
    "                    if ~np.isnan(dic['df' + str(x)].at[y, 'Total population']):\n",
    "                        population += dic['df' + str(x)].at[y, 'Total population']\n",
    "                        count += 1\n",
    "                population = population / count\n",
    "                df.at[y, 'Total dam capacity growth'] = (max(result) - min(result))/population\n",
    "            result = []\n",
    "            population = 0"
   ]
  },
  {
   "cell_type": "markdown",
   "metadata": {},
   "source": [
    "#### Обработка пропусков в данных"
   ]
  },
  {
   "cell_type": "code",
   "execution_count": 48,
   "metadata": {
    "collapsed": true
   },
   "outputs": [],
   "source": [
    "def check(country, variable):\n",
    "    return df1[(df1['Area'] == country) & (df1['Variable Name'] == variable)]"
   ]
  },
  {
   "cell_type": "code",
   "execution_count": 49,
   "metadata": {
    "collapsed": false
   },
   "outputs": [],
   "source": [
    "df.at['Austria', 'Agricultural water withdrawal'] = 0.2734"
   ]
  },
  {
   "cell_type": "markdown",
   "metadata": {},
   "source": [
    "https://web.archive.org/web/20040909180844/http://earthtrends.wri.org/text/water-resources/country-profile-14.html"
   ]
  },
  {
   "cell_type": "code",
   "execution_count": 50,
   "metadata": {
    "collapsed": true
   },
   "outputs": [],
   "source": [
    "df.at['Bangladesh', 'Agricultural water withdrawal'] = 0.8782"
   ]
  },
  {
   "cell_type": "markdown",
   "metadata": {},
   "source": [
    "https://www.cia.gov/library/publications/the-world-factbook/fields/2202.html"
   ]
  },
  {
   "cell_type": "markdown",
   "metadata": {},
   "source": [
    "http://www.tradingeconomics.com/chile/annual-freshwater-withdrawals-total-percent-of-internal-resources-wb-data.html"
   ]
  },
  {
   "cell_type": "code",
   "execution_count": 52,
   "metadata": {
    "collapsed": true
   },
   "outputs": [],
   "source": [
    "df.at['Chile', 'Agricultural water withdrawal'] = 0.7878"
   ]
  },
  {
   "cell_type": "code",
   "execution_count": 53,
   "metadata": {
    "collapsed": false
   },
   "outputs": [],
   "source": [
    "df.at['China', 'Agricultural water withdrawal'] = 0.7507"
   ]
  },
  {
   "cell_type": "markdown",
   "metadata": {},
   "source": [
    "http://postconflict.unep.ch/publications/UNEP_DRC_water.pdf P 20 + прогноз на 2025"
   ]
  },
  {
   "cell_type": "code",
   "execution_count": 55,
   "metadata": {
    "collapsed": false
   },
   "outputs": [],
   "source": [
    "df.at['Denmark', 'Agricultural water withdrawal'] = 0.2347"
   ]
  },
  {
   "cell_type": "code",
   "execution_count": 56,
   "metadata": {
    "collapsed": true
   },
   "outputs": [],
   "source": [
    "df.at['Niger', 'Agricultural water withdrawal'] = 0.6674"
   ]
  },
  {
   "cell_type": "markdown",
   "metadata": {},
   "source": [
    "https://en.wikipedia.org/wiki/Water_resources_management_in_Peru "
   ]
  },
  {
   "cell_type": "code",
   "execution_count": 57,
   "metadata": {
    "collapsed": true
   },
   "outputs": [],
   "source": [
    "df.at['Peru', 'Agricultural water withdrawal'] = 0.84365"
   ]
  },
  {
   "cell_type": "code",
   "execution_count": 59,
   "metadata": {
    "collapsed": true
   },
   "outputs": [],
   "source": [
    "df.at['United Kingdom', 'Agricultural water withdrawal'] = 0.09256"
   ]
  },
  {
   "cell_type": "markdown",
   "metadata": {},
   "source": [
    "https://www.cia.gov/library/publications/the-world-factbook/fields/2202.html"
   ]
  },
  {
   "cell_type": "code",
   "execution_count": 60,
   "metadata": {
    "collapsed": false
   },
   "outputs": [],
   "source": [
    "df.at['Ethiopia', 'Agricultural water withdrawal'] = 0.89815"
   ]
  },
  {
   "cell_type": "code",
   "execution_count": 61,
   "metadata": {
    "collapsed": true
   },
   "outputs": [],
   "source": [
    "df.at['Armenia', 'Agricultural water withdrawal'] = 0.6608"
   ]
  },
  {
   "cell_type": "markdown",
   "metadata": {},
   "source": [
    "https://www.cia.gov/library/publications/the-world-factbook/fields/2202.html"
   ]
  },
  {
   "cell_type": "code",
   "execution_count": 62,
   "metadata": {
    "collapsed": true
   },
   "outputs": [],
   "source": [
    "df.at['Latvia', 'Agricultural water withdrawal'] = 0.1277"
   ]
  },
  {
   "cell_type": "code",
   "execution_count": 63,
   "metadata": {
    "collapsed": true
   },
   "outputs": [],
   "source": [
    "df.at['Lithuania', 'Agricultural water withdrawal'] = 0.02918"
   ]
  },
  {
   "cell_type": "code",
   "execution_count": 64,
   "metadata": {
    "collapsed": true
   },
   "outputs": [],
   "source": [
    "indexes = df.dropna(subset = ['Agricultural water withdrawal']).index.unique()"
   ]
  },
  {
   "cell_type": "code",
   "execution_count": 65,
   "metadata": {
    "collapsed": false
   },
   "outputs": [],
   "source": [
    "result1 = pd.Series([])\n",
    "result = []\n",
    "for i in indexes:\n",
    "    for x in [1988 + x for x in range(0,28,5)]:\n",
    "        if ~ np.isnan(dic['df' + str(x)].at[i, 'Total water withdrawal']):\n",
    "            result.append(dic['df' + str(x)].at[i, 'Total water withdrawal'])\n",
    "    result1[i] = result\n",
    "    result = []"
   ]
  },
  {
   "cell_type": "code",
   "execution_count": 115,
   "metadata": {
    "collapsed": true
   },
   "outputs": [],
   "source": [
    "df.at['Israel', 'Total dam capacity growth'] = 0\n",
    "df.at['Syrian Arab Republic', 'GDP per capita (1990 - 2015)'] =  3687.0\n",
    "df.at['Syrian Arab Republic', 'Conflicts'] = 1"
   ]
  },
  {
   "cell_type": "markdown",
   "metadata": {},
   "source": [
    "#### Добавление признаков из других источников"
   ]
  },
  {
   "cell_type": "markdown",
   "metadata": {},
   "source": [
    "Признак №13: Индекс коррупции"
   ]
  },
  {
   "cell_type": "code",
   "execution_count": 67,
   "metadata": {
    "collapsed": false
   },
   "outputs": [],
   "source": [
    "df_corruption = pd.read_csv(\"corruption.csv\", sep = \";\", encoding = 'Windows-1251')"
   ]
  },
  {
   "cell_type": "code",
   "execution_count": 68,
   "metadata": {
    "collapsed": false,
    "scrolled": true
   },
   "outputs": [
    {
     "data": {
      "text/html": [
       "<div>\n",
       "<table border=\"1\" class=\"dataframe\">\n",
       "  <thead>\n",
       "    <tr style=\"text-align: right;\">\n",
       "      <th></th>\n",
       "      <th>CPI2015</th>\n",
       "      <th>Country</th>\n",
       "    </tr>\n",
       "  </thead>\n",
       "  <tbody>\n",
       "    <tr>\n",
       "      <th>0</th>\n",
       "      <td>91</td>\n",
       "      <td>Denmark</td>\n",
       "    </tr>\n",
       "    <tr>\n",
       "      <th>1</th>\n",
       "      <td>90</td>\n",
       "      <td>Finland</td>\n",
       "    </tr>\n",
       "    <tr>\n",
       "      <th>2</th>\n",
       "      <td>89</td>\n",
       "      <td>Sweden</td>\n",
       "    </tr>\n",
       "    <tr>\n",
       "      <th>3</th>\n",
       "      <td>88</td>\n",
       "      <td>New Zealand</td>\n",
       "    </tr>\n",
       "    <tr>\n",
       "      <th>4</th>\n",
       "      <td>87</td>\n",
       "      <td>Netherlands</td>\n",
       "    </tr>\n",
       "    <tr>\n",
       "      <th>5</th>\n",
       "      <td>87</td>\n",
       "      <td>Norway</td>\n",
       "    </tr>\n",
       "    <tr>\n",
       "      <th>6</th>\n",
       "      <td>86</td>\n",
       "      <td>Switzerland</td>\n",
       "    </tr>\n",
       "    <tr>\n",
       "      <th>7</th>\n",
       "      <td>85</td>\n",
       "      <td>Singapore</td>\n",
       "    </tr>\n",
       "    <tr>\n",
       "      <th>8</th>\n",
       "      <td>83</td>\n",
       "      <td>Canada</td>\n",
       "    </tr>\n",
       "    <tr>\n",
       "      <th>9</th>\n",
       "      <td>81</td>\n",
       "      <td>Germany</td>\n",
       "    </tr>\n",
       "    <tr>\n",
       "      <th>10</th>\n",
       "      <td>81</td>\n",
       "      <td>Luxembourg</td>\n",
       "    </tr>\n",
       "    <tr>\n",
       "      <th>11</th>\n",
       "      <td>81</td>\n",
       "      <td>United Kingdom</td>\n",
       "    </tr>\n",
       "    <tr>\n",
       "      <th>12</th>\n",
       "      <td>79</td>\n",
       "      <td>Australia</td>\n",
       "    </tr>\n",
       "    <tr>\n",
       "      <th>13</th>\n",
       "      <td>79</td>\n",
       "      <td>Iceland</td>\n",
       "    </tr>\n",
       "    <tr>\n",
       "      <th>14</th>\n",
       "      <td>77</td>\n",
       "      <td>Belgium</td>\n",
       "    </tr>\n",
       "    <tr>\n",
       "      <th>15</th>\n",
       "      <td>76</td>\n",
       "      <td>Austria</td>\n",
       "    </tr>\n",
       "    <tr>\n",
       "      <th>16</th>\n",
       "      <td>76</td>\n",
       "      <td>United States of America</td>\n",
       "    </tr>\n",
       "    <tr>\n",
       "      <th>17</th>\n",
       "      <td>75</td>\n",
       "      <td>Ireland</td>\n",
       "    </tr>\n",
       "    <tr>\n",
       "      <th>18</th>\n",
       "      <td>75</td>\n",
       "      <td>Japan</td>\n",
       "    </tr>\n",
       "    <tr>\n",
       "      <th>19</th>\n",
       "      <td>74</td>\n",
       "      <td>Uruguay</td>\n",
       "    </tr>\n",
       "    <tr>\n",
       "      <th>20</th>\n",
       "      <td>71</td>\n",
       "      <td>Qatar</td>\n",
       "    </tr>\n",
       "    <tr>\n",
       "      <th>21</th>\n",
       "      <td>70</td>\n",
       "      <td>Chile</td>\n",
       "    </tr>\n",
       "    <tr>\n",
       "      <th>22</th>\n",
       "      <td>70</td>\n",
       "      <td>Estonia</td>\n",
       "    </tr>\n",
       "    <tr>\n",
       "      <th>23</th>\n",
       "      <td>70</td>\n",
       "      <td>France</td>\n",
       "    </tr>\n",
       "    <tr>\n",
       "      <th>24</th>\n",
       "      <td>70</td>\n",
       "      <td>United Arab Emirates</td>\n",
       "    </tr>\n",
       "    <tr>\n",
       "      <th>25</th>\n",
       "      <td>65</td>\n",
       "      <td>Bhutan</td>\n",
       "    </tr>\n",
       "    <tr>\n",
       "      <th>26</th>\n",
       "      <td>63</td>\n",
       "      <td>Botswana</td>\n",
       "    </tr>\n",
       "    <tr>\n",
       "      <th>27</th>\n",
       "      <td>63</td>\n",
       "      <td>Portugal</td>\n",
       "    </tr>\n",
       "    <tr>\n",
       "      <th>28</th>\n",
       "      <td>62</td>\n",
       "      <td>Poland</td>\n",
       "    </tr>\n",
       "    <tr>\n",
       "      <th>29</th>\n",
       "      <td>61</td>\n",
       "      <td>Cyprus</td>\n",
       "    </tr>\n",
       "    <tr>\n",
       "      <th>...</th>\n",
       "      <td>...</td>\n",
       "      <td>...</td>\n",
       "    </tr>\n",
       "    <tr>\n",
       "      <th>135</th>\n",
       "      <td>25</td>\n",
       "      <td>Bangladesh</td>\n",
       "    </tr>\n",
       "    <tr>\n",
       "      <th>136</th>\n",
       "      <td>25</td>\n",
       "      <td>Guinea</td>\n",
       "    </tr>\n",
       "    <tr>\n",
       "      <th>137</th>\n",
       "      <td>25</td>\n",
       "      <td>Kenya</td>\n",
       "    </tr>\n",
       "    <tr>\n",
       "      <th>138</th>\n",
       "      <td>25</td>\n",
       "      <td>Lao People's Democratic Republic</td>\n",
       "    </tr>\n",
       "    <tr>\n",
       "      <th>139</th>\n",
       "      <td>25</td>\n",
       "      <td>Papua New Guinea</td>\n",
       "    </tr>\n",
       "    <tr>\n",
       "      <th>140</th>\n",
       "      <td>25</td>\n",
       "      <td>Uganda</td>\n",
       "    </tr>\n",
       "    <tr>\n",
       "      <th>141</th>\n",
       "      <td>24</td>\n",
       "      <td>Central African Republic</td>\n",
       "    </tr>\n",
       "    <tr>\n",
       "      <th>142</th>\n",
       "      <td>23</td>\n",
       "      <td>Congo</td>\n",
       "    </tr>\n",
       "    <tr>\n",
       "      <th>143</th>\n",
       "      <td>22</td>\n",
       "      <td>Chad</td>\n",
       "    </tr>\n",
       "    <tr>\n",
       "      <th>144</th>\n",
       "      <td>22</td>\n",
       "      <td>Democratic Republic of the Congo</td>\n",
       "    </tr>\n",
       "    <tr>\n",
       "      <th>145</th>\n",
       "      <td>22</td>\n",
       "      <td>Myanmar</td>\n",
       "    </tr>\n",
       "    <tr>\n",
       "      <th>146</th>\n",
       "      <td>21</td>\n",
       "      <td>Burundi</td>\n",
       "    </tr>\n",
       "    <tr>\n",
       "      <th>147</th>\n",
       "      <td>21</td>\n",
       "      <td>Cambodia</td>\n",
       "    </tr>\n",
       "    <tr>\n",
       "      <th>148</th>\n",
       "      <td>21</td>\n",
       "      <td>Zimbabwe</td>\n",
       "    </tr>\n",
       "    <tr>\n",
       "      <th>149</th>\n",
       "      <td>19</td>\n",
       "      <td>Uzbekistan</td>\n",
       "    </tr>\n",
       "    <tr>\n",
       "      <th>150</th>\n",
       "      <td>18</td>\n",
       "      <td>Eritrea</td>\n",
       "    </tr>\n",
       "    <tr>\n",
       "      <th>151</th>\n",
       "      <td>18</td>\n",
       "      <td>Syrian Arab Republic</td>\n",
       "    </tr>\n",
       "    <tr>\n",
       "      <th>152</th>\n",
       "      <td>18</td>\n",
       "      <td>Turkmenistan</td>\n",
       "    </tr>\n",
       "    <tr>\n",
       "      <th>153</th>\n",
       "      <td>18</td>\n",
       "      <td>Yemen</td>\n",
       "    </tr>\n",
       "    <tr>\n",
       "      <th>154</th>\n",
       "      <td>17</td>\n",
       "      <td>Haiti</td>\n",
       "    </tr>\n",
       "    <tr>\n",
       "      <th>155</th>\n",
       "      <td>17</td>\n",
       "      <td>Guinea-Bissau</td>\n",
       "    </tr>\n",
       "    <tr>\n",
       "      <th>156</th>\n",
       "      <td>17</td>\n",
       "      <td>Venezuela (Bolivarian Republic of)</td>\n",
       "    </tr>\n",
       "    <tr>\n",
       "      <th>157</th>\n",
       "      <td>16</td>\n",
       "      <td>Iraq</td>\n",
       "    </tr>\n",
       "    <tr>\n",
       "      <th>158</th>\n",
       "      <td>16</td>\n",
       "      <td>Libya</td>\n",
       "    </tr>\n",
       "    <tr>\n",
       "      <th>159</th>\n",
       "      <td>15</td>\n",
       "      <td>Angola</td>\n",
       "    </tr>\n",
       "    <tr>\n",
       "      <th>160</th>\n",
       "      <td>15</td>\n",
       "      <td>South Sudan</td>\n",
       "    </tr>\n",
       "    <tr>\n",
       "      <th>161</th>\n",
       "      <td>12</td>\n",
       "      <td>Sudan</td>\n",
       "    </tr>\n",
       "    <tr>\n",
       "      <th>162</th>\n",
       "      <td>11</td>\n",
       "      <td>Afghanistan</td>\n",
       "    </tr>\n",
       "    <tr>\n",
       "      <th>163</th>\n",
       "      <td>8</td>\n",
       "      <td>Democratic People's Republic of Korea</td>\n",
       "    </tr>\n",
       "    <tr>\n",
       "      <th>164</th>\n",
       "      <td>8</td>\n",
       "      <td>Somalia</td>\n",
       "    </tr>\n",
       "  </tbody>\n",
       "</table>\n",
       "<p>165 rows × 2 columns</p>\n",
       "</div>"
      ],
      "text/plain": [
       "     CPI2015                                Country\n",
       "0         91                                Denmark\n",
       "1         90                                Finland\n",
       "2         89                                 Sweden\n",
       "3         88                            New Zealand\n",
       "4         87                            Netherlands\n",
       "5         87                                 Norway\n",
       "6         86                            Switzerland\n",
       "7         85                              Singapore\n",
       "8         83                                 Canada\n",
       "9         81                                Germany\n",
       "10        81                             Luxembourg\n",
       "11        81                         United Kingdom\n",
       "12        79                              Australia\n",
       "13        79                                Iceland\n",
       "14        77                                Belgium\n",
       "15        76                                Austria\n",
       "16        76               United States of America\n",
       "17        75                                Ireland\n",
       "18        75                                  Japan\n",
       "19        74                                Uruguay\n",
       "20        71                                  Qatar\n",
       "21        70                                  Chile\n",
       "22        70                                Estonia\n",
       "23        70                                 France\n",
       "24        70                   United Arab Emirates\n",
       "25        65                                 Bhutan\n",
       "26        63                               Botswana\n",
       "27        63                               Portugal\n",
       "28        62                                 Poland\n",
       "29        61                                 Cyprus\n",
       "..       ...                                    ...\n",
       "135       25                             Bangladesh\n",
       "136       25                                 Guinea\n",
       "137       25                                  Kenya\n",
       "138       25       Lao People's Democratic Republic\n",
       "139       25                       Papua New Guinea\n",
       "140       25                                 Uganda\n",
       "141       24               Central African Republic\n",
       "142       23                                  Congo\n",
       "143       22                                   Chad\n",
       "144       22       Democratic Republic of the Congo\n",
       "145       22                                Myanmar\n",
       "146       21                                Burundi\n",
       "147       21                               Cambodia\n",
       "148       21                               Zimbabwe\n",
       "149       19                             Uzbekistan\n",
       "150       18                                Eritrea\n",
       "151       18                   Syrian Arab Republic\n",
       "152       18                           Turkmenistan\n",
       "153       18                                  Yemen\n",
       "154       17                                  Haiti\n",
       "155       17                          Guinea-Bissau\n",
       "156       17     Venezuela (Bolivarian Republic of)\n",
       "157       16                                   Iraq\n",
       "158       16                                  Libya\n",
       "159       15                                 Angola\n",
       "160       15                            South Sudan\n",
       "161       12                                  Sudan\n",
       "162       11                            Afghanistan\n",
       "163        8  Democratic People's Republic of Korea\n",
       "164        8                                Somalia\n",
       "\n",
       "[165 rows x 2 columns]"
      ]
     },
     "execution_count": 68,
     "metadata": {},
     "output_type": "execute_result"
    }
   ],
   "source": [
    "df_corruption"
   ]
  },
  {
   "cell_type": "code",
   "execution_count": 69,
   "metadata": {
    "collapsed": false
   },
   "outputs": [],
   "source": [
    "df_merge = pd.Series(df_corruption['CPI2015'].values, index = df_corruption['Country'])"
   ]
  },
  {
   "cell_type": "code",
   "execution_count": 70,
   "metadata": {
    "collapsed": false
   },
   "outputs": [],
   "source": [
    "df['Corruption (CPI 2015)'] = df_merge"
   ]
  },
  {
   "cell_type": "markdown",
   "metadata": {},
   "source": [
    "Признак №14: Индекс кооперации"
   ]
  },
  {
   "cell_type": "code",
   "execution_count": 71,
   "metadata": {
    "collapsed": false
   },
   "outputs": [],
   "source": [
    "df_treaties = pd.read_csv('treaties.csv', sep = \";\", encoding = 'Windows-1251', low_memory = False)"
   ]
  },
  {
   "cell_type": "code",
   "execution_count": 72,
   "metadata": {
    "collapsed": false
   },
   "outputs": [],
   "source": [
    "df_treaties = df_treaties[['TREATY_METADATA_DocID', 'Country_Name', 'PRIMARY_COUNTRY_CONTINENT', 'Basin_Name', ]]"
   ]
  },
  {
   "cell_type": "code",
   "execution_count": 73,
   "metadata": {
    "collapsed": false,
    "scrolled": false
   },
   "outputs": [],
   "source": [
    "countries_treaties = pd.DataFrame([], columns = ['Country_Name', 'Basin_Name', 'TREATY_METADATA_DocID'])\n",
    "count = 0\n",
    "result = []\n",
    "for i in df_treaties['Country_Name'].unique():\n",
    "    for x in df_treaties[df_treaties['Country_Name'] == i]['Basin_Name'].unique():\n",
    "        if x != 'General' and x != 'Unknown':\n",
    "            result.append(x)\n",
    "    if i == 'European Union' or i == 'Yugoslavia (Former)' or i == 'European Economic Community'\\\n",
    "    or i == 'Macau' or i == 'Unknown' or i == 'Union of Soviet Socialist Republics'\\\n",
    "    or i == 'Myanmar (Burma)' or i == 'European Community'\\\n",
    "    or i == 'Netherlands Antilles' or i == 'Cape Verde':\n",
    "        result = []\n",
    "        continue\n",
    "    elif i == 'Bolivia':\n",
    "        for y in result:\n",
    "            for z in df_treaties[(df_treaties['Country_Name'] == i) & (df_treaties['Basin_Name'] == y)]['TREATY_METADATA_DocID'].unique():\n",
    "                countries_treaties.at[count, 'Basin_Name'] = y\n",
    "                countries_treaties.at[count, 'Country_Name'] = 'Bolivia (Plurinational State of)'\n",
    "                countries_treaties.at[count, 'TREATY_METADATA_DocID'] = z\n",
    "                count += 1\n",
    "        result = []\n",
    "    elif i == 'Congo, Democratic Republic of (Kinshasa)':\n",
    "        for y in result:\n",
    "            for z in df_treaties[(df_treaties['Country_Name'] == i) & (df_treaties['Basin_Name'] == y)]['TREATY_METADATA_DocID'].unique():\n",
    "                if z != 'Groundwater':\n",
    "                    countries_treaties.at[count, 'Basin_Name'] = y\n",
    "                    countries_treaties.at[count, 'Country_Name'] = 'Democratic Republic of the Congo'\n",
    "                    countries_treaties.at[count, 'TREATY_METADATA_DocID'] = z\n",
    "                    count += 1\n",
    "        result = []\n",
    "    elif i == 'Congo, Republic of the (Brazzaville)':\n",
    "        for y in result:\n",
    "            for z in df_treaties[(df_treaties['Country_Name'] == i) & (df_treaties['Basin_Name'] == y)]['TREATY_METADATA_DocID'].unique():\n",
    "                if z != 'Groundwater':\n",
    "                    countries_treaties.at[count, 'Basin_Name'] = y\n",
    "                    countries_treaties.at[count, 'Country_Name'] = 'Congo'\n",
    "                    countries_treaties.at[count, 'TREATY_METADATA_DocID'] = z\n",
    "                    count += 1\n",
    "        result = []\n",
    "    elif i == 'Iran':\n",
    "        for y in result:\n",
    "            for z in df_treaties[(df_treaties['Country_Name'] == i) & (df_treaties['Basin_Name'] == y)]['TREATY_METADATA_DocID'].unique():\n",
    "                if z != 'Groundwater':\n",
    "                    countries_treaties.at[count, 'Basin_Name'] = y\n",
    "                    countries_treaties.at[count, 'Country_Name'] = 'Iran (Islamic Republic of)'\n",
    "                    countries_treaties.at[count, 'TREATY_METADATA_DocID'] = z\n",
    "                    count += 1\n",
    "        result = []\n",
    "    elif i == 'Tanzania, United Republic of':\n",
    "        for y in result:\n",
    "            for z in df_treaties[(df_treaties['Country_Name'] == i) & (df_treaties['Basin_Name'] == y)]['TREATY_METADATA_DocID'].unique():\n",
    "                if z != 'Groundwater':\n",
    "                    countries_treaties.at[count, 'Basin_Name'] = y\n",
    "                    countries_treaties.at[count, 'Country_Name'] = 'United Republic of Tanzania'\n",
    "                    countries_treaties.at[count, 'TREATY_METADATA_DocID'] = z\n",
    "                    count += 1\n",
    "        result = []\n",
    "    elif i == 'Russia':\n",
    "        for y in result:\n",
    "            for z in df_treaties[(df_treaties['Country_Name'] == i) & (df_treaties['Basin_Name'] == y)]['TREATY_METADATA_DocID'].unique():\n",
    "                if z != 'Groundwater':\n",
    "                    countries_treaties.at[count, 'Basin_Name'] = y\n",
    "                    countries_treaties.at[count, 'Country_Name'] = 'Russian Federation'\n",
    "                    countries_treaties.at[count, 'TREATY_METADATA_DocID'] = z\n",
    "                    count += 1\n",
    "        result = []\n",
    "    elif i == 'Cambodia (Kampuchea)':\n",
    "        for y in result:\n",
    "            for z in df_treaties[(df_treaties['Country_Name'] == i) & (df_treaties['Basin_Name'] == y)]['TREATY_METADATA_DocID'].unique():\n",
    "                if z != 'Groundwater':\n",
    "                    countries_treaties.at[count, 'Basin_Name'] = y\n",
    "                    countries_treaties.at[count, 'Country_Name'] = 'Cambodia'\n",
    "                    countries_treaties.at[count, 'TREATY_METADATA_DocID'] = z\n",
    "                    count += 1\n",
    "        result = []\n",
    "    elif i == 'Byelarus':\n",
    "        for y in result:\n",
    "            for z in df_treaties[(df_treaties['Country_Name'] == i) & (df_treaties['Basin_Name'] == y)]['TREATY_METADATA_DocID'].unique():\n",
    "                if z != 'Groundwater':\n",
    "                    countries_treaties.at[count, 'Basin_Name'] = y\n",
    "                    countries_treaties.at[count, 'Country_Name'] = 'Belarus'\n",
    "                    countries_treaties.at[count, 'TREATY_METADATA_DocID'] = z\n",
    "                    count += 1\n",
    "        result = []\n",
    "    elif i == 'South Korea':\n",
    "        for y in result:\n",
    "            for z in df_treaties[(df_treaties['Country_Name'] == i) & (df_treaties['Basin_Name'] == y)]['TREATY_METADATA_DocID'].unique():\n",
    "                if z != 'Groundwater':\n",
    "                    countries_treaties.at[count, 'Basin_Name'] = y\n",
    "                    countries_treaties.at[count, 'Country_Name'] = 'Republic of Korea'\n",
    "                    countries_treaties.at[count, 'TREATY_METADATA_DocID'] = z\n",
    "                    count += 1\n",
    "        result = []\n",
    "    elif i == 'Korea, Democratic People\\'s Republic of (North)':\n",
    "        for y in result:\n",
    "            for z in df_treaties[(df_treaties['Country_Name'] == i) & (df_treaties['Basin_Name'] == y)]['TREATY_METADATA_DocID'].unique():\n",
    "                if z != 'Groundwater':\n",
    "                    countries_treaties.at[count, 'Basin_Name'] = y\n",
    "                    countries_treaties.at[count, 'Country_Name'] = 'Democratic People\\'s Republic of Korea'\n",
    "                    countries_treaties.at[count, 'TREATY_METADATA_DocID'] = z\n",
    "                    count += 1\n",
    "        result = []\n",
    "    elif i == 'Vietnam':\n",
    "        for y in result:\n",
    "            for z in df_treaties[(df_treaties['Country_Name'] == i) & (df_treaties['Basin_Name'] == y)]['TREATY_METADATA_DocID'].unique():\n",
    "                if z != 'Groundwater':\n",
    "                    countries_treaties.at[count, 'Basin_Name'] = y\n",
    "                    countries_treaties.at[count, 'Country_Name'] = 'Viet Nam'\n",
    "                    countries_treaties.at[count, 'TREATY_METADATA_DocID'] = z\n",
    "                    count += 1\n",
    "        result = []\n",
    "    elif i == 'Syria':\n",
    "        for y in result:\n",
    "            for z in df_treaties[(df_treaties['Country_Name'] == i) & (df_treaties['Basin_Name'] == y)]['TREATY_METADATA_DocID'].unique():\n",
    "                if z != 'Groundwater':\n",
    "                    countries_treaties.at[count, 'Basin_Name'] = y\n",
    "                    countries_treaties.at[count, 'Country_Name'] = 'Syrian Arab Republic'\n",
    "                    countries_treaties.at[count, 'TREATY_METADATA_DocID'] = z\n",
    "                    count += 1\n",
    "        result = [] \n",
    "    elif i == 'Moldova':\n",
    "        for y in result:\n",
    "            for z in df_treaties[(df_treaties['Country_Name'] == i) & (df_treaties['Basin_Name'] == y)]['TREATY_METADATA_DocID'].unique():\n",
    "                if z != 'Groundwater':\n",
    "                    countries_treaties.at[count, 'Basin_Name'] = y\n",
    "                    countries_treaties.at[count, 'Country_Name'] = 'Republic of Moldova'\n",
    "                    countries_treaties.at[count, 'TREATY_METADATA_DocID'] = z\n",
    "                    count += 1\n",
    "        result = []\n",
    "    elif i == 'Venezuela':\n",
    "        for y in result:\n",
    "            for z in df_treaties[(df_treaties['Country_Name'] == i) & (df_treaties['Basin_Name'] == y)]['TREATY_METADATA_DocID'].unique():\n",
    "                if z != 'Groundwater':\n",
    "                    countries_treaties.at[count, 'Basin_Name'] = y\n",
    "                    countries_treaties.at[count, 'Country_Name'] = 'Venezuela (Bolivarian Republic of)'\n",
    "                    countries_treaties.at[count, 'TREATY_METADATA_DocID'] = z\n",
    "                    count += 1\n",
    "        result = []\n",
    "    elif i == 'Laos, People\\'s Democratic Republic of':\n",
    "        for y in result:\n",
    "            for z in df_treaties[(df_treaties['Country_Name'] == i) & (df_treaties['Basin_Name'] == y)]['TREATY_METADATA_DocID'].unique():\n",
    "                if z != 'Groundwater':\n",
    "                    countries_treaties.at[count, 'Basin_Name'] = y\n",
    "                    countries_treaties.at[count, 'Country_Name'] = 'Lao People\\'s Democratic Republic'\n",
    "                    countries_treaties.at[count, 'TREATY_METADATA_DocID'] = z\n",
    "                    count += 1\n",
    "        result = [] \n",
    "    elif i == 'Ivory Coast':\n",
    "        for y in result:\n",
    "            for z in df_treaties[(df_treaties['Country_Name'] == i) & (df_treaties['Basin_Name'] == y)]['TREATY_METADATA_DocID'].unique():\n",
    "                if z != 'Groundwater':\n",
    "                    countries_treaties.at[count, 'Basin_Name'] = y\n",
    "                    countries_treaties.at[count, 'Country_Name'] = 'Cote d\\'Ivoire'\n",
    "                    countries_treaties.at[count, 'TREATY_METADATA_DocID'] = z\n",
    "                    count += 1\n",
    "        result = [] \n",
    "    elif i == 'Gambia, The':\n",
    "        for y in result:\n",
    "            for z in df_treaties[(df_treaties['Country_Name'] == i) & (df_treaties['Basin_Name'] == y)]['TREATY_METADATA_DocID'].unique():\n",
    "                if z != 'Groundwater':\n",
    "                    countries_treaties.at[count, 'Basin_Name'] = y\n",
    "                    countries_treaties.at[count, 'Country_Name'] = 'Gambia'\n",
    "                    countries_treaties.at[count, 'TREATY_METADATA_DocID'] = z\n",
    "                    count += 1\n",
    "        result = []\n",
    "    elif i == 'Macedonia':\n",
    "        for y in result:\n",
    "            for z in df_treaties[(df_treaties['Country_Name'] == i) & (df_treaties['Basin_Name'] == y)]['TREATY_METADATA_DocID'].unique():\n",
    "                if z != 'Groundwater':\n",
    "                    countries_treaties.at[count, 'Basin_Name'] = y\n",
    "                    countries_treaties.at[count, 'Country_Name'] = 'The former Yugoslav Republic of Macedonia'\n",
    "                    countries_treaties.at[count, 'TREATY_METADATA_DocID'] = z\n",
    "                    count += 1\n",
    "        result = []   \n",
    "    else:\n",
    "        for y in result:\n",
    "            for z in df_treaties[(df_treaties['Country_Name'] == i) & (df_treaties['Basin_Name'] == y)]['TREATY_METADATA_DocID'].unique():\n",
    "                if z != 'Groundwater':\n",
    "                    countries_treaties.at[count, 'Basin_Name'] = y\n",
    "                    countries_treaties.at[count, 'Country_Name'] = i\n",
    "                    countries_treaties.at[count, 'TREATY_METADATA_DocID'] = z\n",
    "                    count += 1\n",
    "        result = []"
   ]
  },
  {
   "cell_type": "code",
   "execution_count": 74,
   "metadata": {
    "collapsed": false
   },
   "outputs": [],
   "source": [
    "result1 = 0\n",
    "count = 0\n",
    "sum_dependancy = 0\n",
    "num_countries = 0\n",
    "N = 0\n",
    "result2 = 0\n",
    "number_of_treaties = pd.DataFrame([], columns = ['Country Name', 'Number of treaties/Number of countries'])\n",
    "for i in countries_treaties['Country_Name'].unique():\n",
    "    if 1 > 0:\n",
    "        for x in countries_treaties[countries_treaties['Country_Name'] == i]['Basin_Name'].unique():\n",
    "            N += countries_treaties[countries_treaties['Basin_Name'] == x]['Country_Name'].unique().shape[0]\n",
    "        for x in countries_treaties[countries_treaties['Country_Name'] == i]['Basin_Name'].unique():\n",
    "            if x != 'Groundwater': \n",
    "                result1 += countries_treaties[countries_treaties['Basin_Name'] == x]['TREATY_METADATA_DocID'].unique().shape[0]\n",
    "                for y in countries_treaties[countries_treaties['Basin_Name'] == x]['Country_Name'].unique():\n",
    "                    if ~ np.isnan(dic['df2013'].at[y, 'Dependency ratio']):\n",
    "                        sum_dependancy += abs(dic['df2013'].at[y, 'Dependency ratio'])\n",
    "                    else:\n",
    "                        N = N - 1\n",
    "                result2 += sum_dependancy/(N * np.sqrt(result1))\n",
    "                if np.isnan(dic['df2013'].at[y, 'Dependency ratio']):\n",
    "                    N = N + 1\n",
    "                result1 = 0\n",
    "                sum_dependancy = 0\n",
    "        number_of_treaties.at[count, 'Number of treaties/Number of countries'] = result2\n",
    "        number_of_treaties.at[count, 'Country Name'] = i\n",
    "        count += 1\n",
    "        N = 0\n",
    "        result2 = 0"
   ]
  },
  {
   "cell_type": "code",
   "execution_count": 75,
   "metadata": {
    "collapsed": false
   },
   "outputs": [],
   "source": [
    "for i in df.index:\n",
    "    if i not in number_of_treaties['Country Name'].unique():\n",
    "        number_of_treaties.at[count, 'Number of treaties/Number of countries'] = dic['df2013'].at[i, 'Dependency ratio']\n",
    "        number_of_treaties.at[count, 'Country Name'] = i\n",
    "        count += 1"
   ]
  },
  {
   "cell_type": "code",
   "execution_count": 76,
   "metadata": {
    "collapsed": true
   },
   "outputs": [],
   "source": [
    "result = pd.Series(number_of_treaties['Number of treaties/Number of countries'].values, index = number_of_treaties['Country Name'].values)"
   ]
  },
  {
   "cell_type": "code",
   "execution_count": 77,
   "metadata": {
    "collapsed": false,
    "scrolled": true
   },
   "outputs": [
    {
     "data": {
      "text/plain": [
       "Greece                                       11.5379\n",
       "Spain                                        13.4299\n",
       "France                                       7.58094\n",
       "India                                        27.2846\n",
       "Pakistan                                     16.3369\n",
       "Egypt                                        8.08528\n",
       "Sudan                                        8.08528\n",
       "Switzerland                                  6.27707\n",
       "Nepal                                        6.89694\n",
       "Czech Republic                               12.1314\n",
       "Poland                                       13.8593\n",
       "Slovakia                                     12.1314\n",
       "Italy                                        6.15674\n",
       "China                                        7.21186\n",
       "Democratic People's Republic of Korea        4.02958\n",
       "Germany                                      9.01404\n",
       "Netherlands                                  11.1676\n",
       "Mexico                                       8.88475\n",
       "United States of America                     3.77966\n",
       "Guatemala                                    14.4278\n",
       "Canada                                       5.59384\n",
       "Belgium                                      11.2228\n",
       "Argentina                                     11.549\n",
       "Uruguay                                      16.8221\n",
       "Luxembourg                                   5.49855\n",
       "Swaziland                                    16.3064\n",
       "Brazil                                       13.3589\n",
       "Guinea                                        12.319\n",
       "Mali                                         15.8499\n",
       "Mauritania                                   13.0453\n",
       "                                              ...   \n",
       "Sri Lanka                                          0\n",
       "Timor-Leste                                        0\n",
       "Trinidad and Tobago                                0\n",
       "Tunisia                                        9.101\n",
       "United Arab Emirates                               0\n",
       "Vanuatu                                            0\n",
       "Yemen                                              0\n",
       "Armenia                                        11.71\n",
       "Azerbaijan                                      76.6\n",
       "Georgia                                        8.211\n",
       "The former Yugoslav Republic of Macedonia      15.62\n",
       "Eritrea                                        61.72\n",
       "South Sudan                                    65.79\n",
       "Cook Islands                                       0\n",
       "Faroe Islands                                      0\n",
       "Kiribati                                           0\n",
       "Marshall Islands                                   0\n",
       "Micronesia (Federated States of)                   0\n",
       "Nauru                                              0\n",
       "Niue                                               0\n",
       "Palau                                              0\n",
       "Samoa                                              0\n",
       "Seychelles                                         0\n",
       "Tokelau                                            0\n",
       "Tonga                                              0\n",
       "Tuvalu                                             0\n",
       "Holy See                                         NaN\n",
       "Liechtenstein                                    NaN\n",
       "Monaco                                           NaN\n",
       "San Marino                                       NaN\n",
       "dtype: object"
      ]
     },
     "execution_count": 77,
     "metadata": {},
     "output_type": "execute_result"
    }
   ],
   "source": [
    "result"
   ]
  },
  {
   "cell_type": "code",
   "execution_count": 78,
   "metadata": {
    "collapsed": false,
    "scrolled": true
   },
   "outputs": [
    {
     "data": {
      "text/plain": [
       "Greece                                       11.5379\n",
       "Spain                                        13.4299\n",
       "France                                       7.58094\n",
       "India                                        27.2846\n",
       "Pakistan                                     16.3369\n",
       "Egypt                                        8.08528\n",
       "Sudan                                        8.08528\n",
       "Switzerland                                  6.27707\n",
       "Nepal                                        6.89694\n",
       "Czech Republic                               12.1314\n",
       "Poland                                       13.8593\n",
       "Slovakia                                     12.1314\n",
       "Italy                                        6.15674\n",
       "China                                        7.21186\n",
       "Democratic People's Republic of Korea        4.02958\n",
       "Germany                                      9.01404\n",
       "Netherlands                                  11.1676\n",
       "Mexico                                       8.88475\n",
       "United States of America                     3.77966\n",
       "Guatemala                                    14.4278\n",
       "Canada                                       5.59384\n",
       "Belgium                                      11.2228\n",
       "Argentina                                     11.549\n",
       "Uruguay                                      16.8221\n",
       "Luxembourg                                   5.49855\n",
       "Swaziland                                    16.3064\n",
       "Brazil                                       13.3589\n",
       "Guinea                                        12.319\n",
       "Mali                                         15.8499\n",
       "Mauritania                                   13.0453\n",
       "                                              ...   \n",
       "Sri Lanka                                          0\n",
       "Timor-Leste                                        0\n",
       "Trinidad and Tobago                                0\n",
       "Tunisia                                        9.101\n",
       "United Arab Emirates                               0\n",
       "Vanuatu                                            0\n",
       "Yemen                                              0\n",
       "Armenia                                        11.71\n",
       "Azerbaijan                                      76.6\n",
       "Georgia                                        8.211\n",
       "The former Yugoslav Republic of Macedonia      15.62\n",
       "Eritrea                                        61.72\n",
       "South Sudan                                    65.79\n",
       "Cook Islands                                       0\n",
       "Faroe Islands                                      0\n",
       "Kiribati                                           0\n",
       "Marshall Islands                                   0\n",
       "Micronesia (Federated States of)                   0\n",
       "Nauru                                              0\n",
       "Niue                                               0\n",
       "Palau                                              0\n",
       "Samoa                                              0\n",
       "Seychelles                                         0\n",
       "Tokelau                                            0\n",
       "Tonga                                              0\n",
       "Tuvalu                                             0\n",
       "Holy See                                         NaN\n",
       "Liechtenstein                                    NaN\n",
       "Monaco                                           NaN\n",
       "San Marino                                       NaN\n",
       "dtype: object"
      ]
     },
     "execution_count": 78,
     "metadata": {},
     "output_type": "execute_result"
    }
   ],
   "source": [
    "result"
   ]
  },
  {
   "cell_type": "code",
   "execution_count": 79,
   "metadata": {
    "collapsed": true
   },
   "outputs": [],
   "source": [
    "df['Cooperation Index'] = result "
   ]
  },
  {
   "cell_type": "markdown",
   "metadata": {},
   "source": [
    "Признак №15: Индекс загрязненности"
   ]
  },
  {
   "cell_type": "code",
   "execution_count": 80,
   "metadata": {
    "collapsed": true
   },
   "outputs": [],
   "source": [
    "df_pollution = pd.read_csv('pollution.csv', sep = \";\")"
   ]
  },
  {
   "cell_type": "code",
   "execution_count": 81,
   "metadata": {
    "collapsed": false
   },
   "outputs": [],
   "source": [
    "for i in df_pollution.values[:, 0]:\n",
    "    df.at[i, 'Pollution_index (2011)'] = df_pollution[df_pollution['Afghanistan'] == i]['Unnamed: 1'].values[0]"
   ]
  },
  {
   "cell_type": "code",
   "execution_count": 82,
   "metadata": {
    "collapsed": false,
    "scrolled": false
   },
   "outputs": [
    {
     "data": {
      "image/png": "[encoded data removed]",
      "text/plain": [
       "<matplotlib.figure.Figure at 0x114ae5ac8>"
      ]
     },
     "metadata": {},
     "output_type": "display_data"
    }
   ],
   "source": [
    "sns.set(style=\"white\")\n",
    "\n",
    "\n",
    "# Compute the correlation matrix\n",
    "corr = df.corr()\n",
    "\n",
    "# Generate a mask for the upper triangle\n",
    "mask = np.zeros_like(corr, dtype=np.bool)\n",
    "mask[np.triu_indices_from(mask)] = True\n",
    "\n",
    "# Set up the matplotlib figure\n",
    "f, ax = plt.subplots(figsize=(11, 9))\n",
    "\n",
    "# Generate a custom diverging colormap\n",
    "cmap = sns.diverging_palette(220, 10, as_cmap=True)\n",
    "\n",
    "# Draw the heatmap with the mask and correct aspect ratio\n",
    "sns.heatmap(corr, mask=mask, cmap=cmap, vmax=.3,\n",
    "            square=True,\n",
    "            linewidths=.5, cbar_kws={\"shrink\": .5}, ax=ax)\n",
    "plt.show()"
   ]
  },
  {
   "cell_type": "markdown",
   "metadata": {},
   "source": [
    "Источники данных для Судана: <br/> <br/>\n",
    "https://knoema.com/atlas/Sudan/topics/Water/Water-Withdrawal/Agricultural-water-withdrawal-percent"
   ]
  },
  {
   "cell_type": "code",
   "execution_count": 83,
   "metadata": {
    "collapsed": true
   },
   "outputs": [],
   "source": [
    "df.at['Sudan', 'Agricultural water withdrawal'] = 0.95"
   ]
  },
  {
   "cell_type": "markdown",
   "metadata": {},
   "source": [
    "Добавление целевой переменной"
   ]
  },
  {
   "cell_type": "code",
   "execution_count": 118,
   "metadata": {
    "collapsed": true
   },
   "outputs": [],
   "source": [
    "dr = df['Conflicts']\n",
    "df = df.drop('Conflicts', axis = 1)\n",
    "df['Conflicts'] = dr"
   ]
  },
  {
   "cell_type": "code",
   "execution_count": 119,
   "metadata": {
    "collapsed": false
   },
   "outputs": [],
   "source": [
    "df['Conflicts'] = dic['df2013']['Conflicts'].astype(int)\n",
    "df['Cooperation Index'] = df['Cooperation Index'].astype(float)"
   ]
  },
  {
   "cell_type": "code",
   "execution_count": 120,
   "metadata": {
    "collapsed": false
   },
   "outputs": [
    {
     "data": {
      "text/html": [
       "<div>\n",
       "<table border=\"1\" class=\"dataframe\">\n",
       "  <thead>\n",
       "    <tr style=\"text-align: right;\">\n",
       "      <th></th>\n",
       "      <th>Total internal renewable water resources (IRWR) per capita (1990 - 2015)</th>\n",
       "      <th>Surface water: inflow not submitted to treaties per capita (1990 - 2015)</th>\n",
       "      <th>Surface water: accounted flow of border rivers per capita (1990 - 2015)</th>\n",
       "      <th>Groundwater entering the country per capita (2013)</th>\n",
       "      <th>Interannual variability (WRI)</th>\n",
       "      <th>Dependency ratio</th>\n",
       "      <th>Agricultural water withdrawal</th>\n",
       "      <th>Total population with access to safe drinking-water (JMP)(1990 - 2013)</th>\n",
       "      <th>GDP per capita (1990 - 2015)</th>\n",
       "      <th>GDP per capita growth</th>\n",
       "      <th>population_density</th>\n",
       "      <th>Total dam capacity growth</th>\n",
       "      <th>Corruption (CPI 2015)</th>\n",
       "      <th>Cooperation Index</th>\n",
       "      <th>Pollution_index (2011)</th>\n",
       "      <th>Conflicts</th>\n",
       "    </tr>\n",
       "  </thead>\n",
       "  <tbody>\n",
       "    <tr>\n",
       "      <th>count</th>\n",
       "      <td>103.000000</td>\n",
       "      <td>103.000000</td>\n",
       "      <td>103.000000</td>\n",
       "      <td>103.000000</td>\n",
       "      <td>103.000000</td>\n",
       "      <td>103.000000</td>\n",
       "      <td>103.000000</td>\n",
       "      <td>103.000000</td>\n",
       "      <td>103.000000</td>\n",
       "      <td>103.000000</td>\n",
       "      <td>103.000000</td>\n",
       "      <td>103.000000</td>\n",
       "      <td>103.000000</td>\n",
       "      <td>103.000000</td>\n",
       "      <td>103.000000</td>\n",
       "      <td>103.000000</td>\n",
       "    </tr>\n",
       "    <tr>\n",
       "      <th>mean</th>\n",
       "      <td>20499.843332</td>\n",
       "      <td>2274.329607</td>\n",
       "      <td>721.343083</td>\n",
       "      <td>8.123528</td>\n",
       "      <td>1.874757</td>\n",
       "      <td>27.888587</td>\n",
       "      <td>0.569713</td>\n",
       "      <td>0.844906</td>\n",
       "      <td>11104.876149</td>\n",
       "      <td>0.050447</td>\n",
       "      <td>99.984895</td>\n",
       "      <td>0.000314</td>\n",
       "      <td>43.417476</td>\n",
       "      <td>11.218712</td>\n",
       "      <td>68.937767</td>\n",
       "      <td>-0.766990</td>\n",
       "    </tr>\n",
       "    <tr>\n",
       "      <th>std</th>\n",
       "      <td>67330.137974</td>\n",
       "      <td>5215.550238</td>\n",
       "      <td>3716.517817</td>\n",
       "      <td>64.658114</td>\n",
       "      <td>0.890992</td>\n",
       "      <td>32.309178</td>\n",
       "      <td>0.318362</td>\n",
       "      <td>0.172179</td>\n",
       "      <td>15732.448683</td>\n",
       "      <td>0.025573</td>\n",
       "      <td>129.556826</td>\n",
       "      <td>0.000911</td>\n",
       "      <td>21.174126</td>\n",
       "      <td>10.791722</td>\n",
       "      <td>16.213127</td>\n",
       "      <td>0.644796</td>\n",
       "    </tr>\n",
       "    <tr>\n",
       "      <th>min</th>\n",
       "      <td>24.034182</td>\n",
       "      <td>0.000000</td>\n",
       "      <td>0.000000</td>\n",
       "      <td>0.000000</td>\n",
       "      <td>0.600000</td>\n",
       "      <td>0.000000</td>\n",
       "      <td>0.003117</td>\n",
       "      <td>0.369000</td>\n",
       "      <td>243.183333</td>\n",
       "      <td>-0.018775</td>\n",
       "      <td>1.639333</td>\n",
       "      <td>0.000000</td>\n",
       "      <td>12.000000</td>\n",
       "      <td>0.000000</td>\n",
       "      <td>34.000000</td>\n",
       "      <td>-1.000000</td>\n",
       "    </tr>\n",
       "    <tr>\n",
       "      <th>25%</th>\n",
       "      <td>951.212413</td>\n",
       "      <td>0.000000</td>\n",
       "      <td>0.000000</td>\n",
       "      <td>0.000000</td>\n",
       "      <td>1.200000</td>\n",
       "      <td>1.166500</td>\n",
       "      <td>0.276147</td>\n",
       "      <td>0.794917</td>\n",
       "      <td>1258.816667</td>\n",
       "      <td>0.031192</td>\n",
       "      <td>20.701000</td>\n",
       "      <td>0.000000</td>\n",
       "      <td>28.000000</td>\n",
       "      <td>5.546196</td>\n",
       "      <td>57.540000</td>\n",
       "      <td>-1.000000</td>\n",
       "    </tr>\n",
       "    <tr>\n",
       "      <th>50%</th>\n",
       "      <td>2695.475452</td>\n",
       "      <td>180.255471</td>\n",
       "      <td>0.000000</td>\n",
       "      <td>0.000000</td>\n",
       "      <td>1.600000</td>\n",
       "      <td>11.070000</td>\n",
       "      <td>0.659748</td>\n",
       "      <td>0.897833</td>\n",
       "      <td>3707.500000</td>\n",
       "      <td>0.048822</td>\n",
       "      <td>57.761667</td>\n",
       "      <td>0.000025</td>\n",
       "      <td>36.000000</td>\n",
       "      <td>10.786667</td>\n",
       "      <td>69.740000</td>\n",
       "      <td>-1.000000</td>\n",
       "    </tr>\n",
       "    <tr>\n",
       "      <th>75%</th>\n",
       "      <td>9343.948012</td>\n",
       "      <td>1997.421357</td>\n",
       "      <td>8.522698</td>\n",
       "      <td>0.000000</td>\n",
       "      <td>2.400000</td>\n",
       "      <td>50.910000</td>\n",
       "      <td>0.840892</td>\n",
       "      <td>0.990417</td>\n",
       "      <td>12817.333333</td>\n",
       "      <td>0.062767</td>\n",
       "      <td>110.637500</td>\n",
       "      <td>0.000179</td>\n",
       "      <td>56.000000</td>\n",
       "      <td>14.490738</td>\n",
       "      <td>80.630000</td>\n",
       "      <td>-1.000000</td>\n",
       "    </tr>\n",
       "    <tr>\n",
       "      <th>max</th>\n",
       "      <td>573742.828215</td>\n",
       "      <td>40308.133286</td>\n",
       "      <td>34949.566448</td>\n",
       "      <td>646.823513</td>\n",
       "      <td>4.900000</td>\n",
       "      <td>97.000000</td>\n",
       "      <td>0.978027</td>\n",
       "      <td>1.000000</td>\n",
       "      <td>75146.666667</td>\n",
       "      <td>0.129791</td>\n",
       "      <td>871.250000</td>\n",
       "      <td>0.005594</td>\n",
       "      <td>90.000000</td>\n",
       "      <td>76.600000</td>\n",
       "      <td>99.410000</td>\n",
       "      <td>1.000000</td>\n",
       "    </tr>\n",
       "  </tbody>\n",
       "</table>\n",
       "</div>"
      ],
      "text/plain": [
       "       Total internal renewable water resources (IRWR) per capita (1990 - 2015)  \\\n",
       "count                                         103.000000                          \n",
       "mean                                        20499.843332                          \n",
       "std                                         67330.137974                          \n",
       "min                                            24.034182                          \n",
       "25%                                           951.212413                          \n",
       "50%                                          2695.475452                          \n",
       "75%                                          9343.948012                          \n",
       "max                                        573742.828215                          \n",
       "\n",
       "       Surface water: inflow not submitted to treaties per capita (1990 - 2015)  \\\n",
       "count                                         103.000000                          \n",
       "mean                                         2274.329607                          \n",
       "std                                          5215.550238                          \n",
       "min                                             0.000000                          \n",
       "25%                                             0.000000                          \n",
       "50%                                           180.255471                          \n",
       "75%                                          1997.421357                          \n",
       "max                                         40308.133286                          \n",
       "\n",
       "       Surface water: accounted flow of border rivers per capita (1990 - 2015)  \\\n",
       "count                                         103.000000                         \n",
       "mean                                          721.343083                         \n",
       "std                                          3716.517817                         \n",
       "min                                             0.000000                         \n",
       "25%                                             0.000000                         \n",
       "50%                                             0.000000                         \n",
       "75%                                             8.522698                         \n",
       "max                                         34949.566448                         \n",
       "\n",
       "       Groundwater entering the country per capita (2013)  \\\n",
       "count                                         103.000000    \n",
       "mean                                            8.123528    \n",
       "std                                            64.658114    \n",
       "min                                             0.000000    \n",
       "25%                                             0.000000    \n",
       "50%                                             0.000000    \n",
       "75%                                             0.000000    \n",
       "max                                           646.823513    \n",
       "\n",
       "       Interannual variability (WRI)  Dependency ratio  \\\n",
       "count                     103.000000        103.000000   \n",
       "mean                        1.874757         27.888587   \n",
       "std                         0.890992         32.309178   \n",
       "min                         0.600000          0.000000   \n",
       "25%                         1.200000          1.166500   \n",
       "50%                         1.600000         11.070000   \n",
       "75%                         2.400000         50.910000   \n",
       "max                         4.900000         97.000000   \n",
       "\n",
       "       Agricultural water withdrawal  \\\n",
       "count                     103.000000   \n",
       "mean                        0.569713   \n",
       "std                         0.318362   \n",
       "min                         0.003117   \n",
       "25%                         0.276147   \n",
       "50%                         0.659748   \n",
       "75%                         0.840892   \n",
       "max                         0.978027   \n",
       "\n",
       "       Total population with access to safe drinking-water (JMP)(1990 - 2013)  \\\n",
       "count                                         103.000000                        \n",
       "mean                                            0.844906                        \n",
       "std                                             0.172179                        \n",
       "min                                             0.369000                        \n",
       "25%                                             0.794917                        \n",
       "50%                                             0.897833                        \n",
       "75%                                             0.990417                        \n",
       "max                                             1.000000                        \n",
       "\n",
       "       GDP per capita (1990 - 2015)  GDP per capita growth  \\\n",
       "count                    103.000000             103.000000   \n",
       "mean                   11104.876149               0.050447   \n",
       "std                    15732.448683               0.025573   \n",
       "min                      243.183333              -0.018775   \n",
       "25%                     1258.816667               0.031192   \n",
       "50%                     3707.500000               0.048822   \n",
       "75%                    12817.333333               0.062767   \n",
       "max                    75146.666667               0.129791   \n",
       "\n",
       "       population_density  Total dam capacity growth  Corruption (CPI 2015)  \\\n",
       "count          103.000000                 103.000000             103.000000   \n",
       "mean            99.984895                   0.000314              43.417476   \n",
       "std            129.556826                   0.000911              21.174126   \n",
       "min              1.639333                   0.000000              12.000000   \n",
       "25%             20.701000                   0.000000              28.000000   \n",
       "50%             57.761667                   0.000025              36.000000   \n",
       "75%            110.637500                   0.000179              56.000000   \n",
       "max            871.250000                   0.005594              90.000000   \n",
       "\n",
       "       Cooperation Index  Pollution_index (2011)   Conflicts  \n",
       "count         103.000000              103.000000  103.000000  \n",
       "mean           11.218712               68.937767   -0.766990  \n",
       "std            10.791722               16.213127    0.644796  \n",
       "min             0.000000               34.000000   -1.000000  \n",
       "25%             5.546196               57.540000   -1.000000  \n",
       "50%            10.786667               69.740000   -1.000000  \n",
       "75%            14.490738               80.630000   -1.000000  \n",
       "max            76.600000               99.410000    1.000000  "
      ]
     },
     "execution_count": 120,
     "metadata": {},
     "output_type": "execute_result"
    }
   ],
   "source": [
    "df.describe()"
   ]
  },
  {
   "cell_type": "markdown",
   "metadata": {},
   "source": [
    "#### Анализ признаков"
   ]
  },
  {
   "cell_type": "code",
   "execution_count": 121,
   "metadata": {
    "collapsed": false
   },
   "outputs": [
    {
     "data": {
      "image/png": "[encoded data removed]",
      "text/plain": [
       "<matplotlib.figure.Figure at 0x110d54470>"
      ]
     },
     "metadata": {},
     "output_type": "display_data"
    }
   ],
   "source": [
    "g = sns.boxplot(x=\"Conflicts\", y='Agricultural water withdrawal', data=df)\n",
    "g.set(xlabel='Конфликты', ylabel='Признак №7')\n",
    "g.figure.savefig('Priznak7.eps', format = 'eps', dpi = 1000)\n",
    "plt.show()"
   ]
  },
  {
   "cell_type": "code",
   "execution_count": 122,
   "metadata": {
    "collapsed": false
   },
   "outputs": [
    {
     "data": {
      "image/png": "[encoded data removed]",
      "text/plain": [
       "<matplotlib.figure.Figure at 0x110d67240>"
      ]
     },
     "metadata": {},
     "output_type": "display_data"
    }
   ],
   "source": [
    "g = sns.boxplot(x=\"Conflicts\", y='Total internal renewable water resources (IRWR) per capita (1990 - 2015)', data=df)\n",
    "g.set(xlabel='Конфликты', ylabel='Признак №1')\n",
    "g.set(ylim = (0, 5000))\n",
    "g.figure.savefig('Priznak1.eps', format = 'eps', dpi = 1000)\n",
    "plt.show()"
   ]
  },
  {
   "cell_type": "code",
   "execution_count": 123,
   "metadata": {
    "collapsed": true
   },
   "outputs": [],
   "source": [
    "df = df.dropna()"
   ]
  },
  {
   "cell_type": "code",
   "execution_count": 124,
   "metadata": {
    "collapsed": false
   },
   "outputs": [
    {
     "name": "stdout",
     "output_type": "stream",
     "text": [
      "Somalia\n",
      "Occupied Palestinian Territory\n",
      "Afghanistan\n"
     ]
    }
   ],
   "source": [
    "for i in countries.index:\n",
    "    if i not in df.index:\n",
    "        print(i)"
   ]
  },
  {
   "cell_type": "code",
   "execution_count": 130,
   "metadata": {
    "collapsed": false
   },
   "outputs": [],
   "source": [
    "df.at['Syrian Arab Republic', 'Conflicts'] = 1"
   ]
  },
  {
   "cell_type": "markdown",
   "metadata": {},
   "source": [
    "## Обучение классификаторов"
   ]
  },
  {
   "cell_type": "code",
   "execution_count": 132,
   "metadata": {
    "collapsed": false
   },
   "outputs": [],
   "source": [
    "from sklearn.preprocessing import scale\n",
    "X = df[df.columns.values[:-1]].values\n",
    "y = df[df.columns.values[-1]].values\n",
    "X = scale(X)\n",
    "y = y.astype(int)"
   ]
  },
  {
   "cell_type": "code",
   "execution_count": 133,
   "metadata": {
    "collapsed": true
   },
   "outputs": [],
   "source": [
    "from sklearn.cross_validation import KFold\n",
    "kf = KFold(X.shape[0], n_folds = 5, shuffle=True, random_state = 243)"
   ]
  },
  {
   "cell_type": "code",
   "execution_count": 134,
   "metadata": {
    "collapsed": true
   },
   "outputs": [],
   "source": [
    "from sklearn.cross_validation import KFold\n",
    "from sklearn.ensemble import RandomForestClassifier\n",
    "from sklearn.linear_model import LogisticRegression\n",
    "from sklearn.svm import SVC\n",
    "from sklearn import grid_search"
   ]
  },
  {
   "cell_type": "markdown",
   "metadata": {},
   "source": [
    "#### Случай №1: random_state = 43"
   ]
  },
  {
   "cell_type": "code",
   "execution_count": 159,
   "metadata": {
    "collapsed": false
   },
   "outputs": [],
   "source": [
    "def classifier(y, X, clf, grid, title, allow_max = True):\n",
    "    cv = KFold(X.shape[0], n_folds = 5, shuffle=True, random_state = 43)\n",
    "    \n",
    "    gs1 = grid_search.GridSearchCV(clf, grid, scoring='recall', cv=cv)\n",
    "    gs1.fit(X, y)\n",
    "    result1 = []\n",
    "    for i in range(len(gs1.grid_scores_)):\n",
    "        result1.append(gs1.grid_scores_[i][2].mean())\n",
    "    \n",
    "    gs2 = grid_search.GridSearchCV(clf, grid, scoring='accuracy', cv=cv)\n",
    "    gs2.fit(X, y)\n",
    "    result2 = []\n",
    "    for i in range(len(gs2.grid_scores_)):\n",
    "        result2.append(gs2.grid_scores_[i][2].mean())\n",
    "\n",
    "    plt.figure(figsize = (8, 6))\n",
    "    plt.plot(grid[list(grid.keys())[0]], result1, c = 'b', label = 'recall')\n",
    "    plt.plot(grid[list(grid.keys())[0]], result2, c = 'r', label = 'accuracy')\n",
    "    plt.title(title)\n",
    "    plt.xlabel(list(grid.keys())[0])\n",
    "    plt.ylabel('accuracy or recall')\n",
    "    plt.legend()\n",
    "    plt.show()\n",
    "    print('Оптимальное значение метрики качества %s: %.2f для %s = %.2f' % ('recall',max(result1), list(grid.keys())[0], grid[list(grid.keys())[0]][result1.index(max(result1))]))\n",
    "    print('Оптимальное значение метрики качества %s: %.2f для %s = %.2f' % ('accuracy',max(result2), list(grid.keys())[0], grid[list(grid.keys())[0]][result2.index(max(result2))]))\n",
    "    return [result1, result2]"
   ]
  },
  {
   "cell_type": "code",
   "execution_count": 160,
   "metadata": {
    "collapsed": true
   },
   "outputs": [],
   "source": [
    "def weights (y, X, clf):\n",
    "    clf.fit(X, y)\n",
    "    return clf.coef_"
   ]
  },
  {
   "cell_type": "markdown",
   "metadata": {},
   "source": [
    "#### Логистическая регрессия"
   ]
  },
  {
   "cell_type": "code",
   "execution_count": 161,
   "metadata": {
    "collapsed": false,
    "scrolled": false
   },
   "outputs": [
    {
     "data": {
      "image/png": "[encoded data removed]",
      "text/plain": [
       "<matplotlib.figure.Figure at 0x114b1f1d0>"
      ]
     },
     "metadata": {},
     "output_type": "display_data"
    },
    {
     "name": "stdout",
     "output_type": "stream",
     "text": [
      "Оптимальное значение метрики качества recall: 1.00 для C = 0.01\n",
      "Оптимальное значение метрики качества accuracy: 0.78 для C = 0.35\n"
     ]
    }
   ],
   "source": [
    "result = classifier(y, X, LogisticRegression(class_weight = 'balanced'), {'C': np.linspace(0.01, 1, 50)}, 'Logistic Regression')"
   ]
  },
  {
   "cell_type": "markdown",
   "metadata": {},
   "source": [
    "Оптимальное значение гиперпараметра C для логистической регрессии: 0.15"
   ]
  },
  {
   "cell_type": "code",
   "execution_count": 164,
   "metadata": {
    "collapsed": false
   },
   "outputs": [
    {
     "name": "stdout",
     "output_type": "stream",
     "text": [
      "1.0 0.748571428571\n"
     ]
    }
   ],
   "source": [
    "count = 0\n",
    "for x in np.linspace(0.01, 1, 50):\n",
    "    count += 1\n",
    "    if abs(x - 0.15) < 0.01:\n",
    "        print(result[0][count], result[1][count])"
   ]
  },
  {
   "cell_type": "code",
   "execution_count": 166,
   "metadata": {
    "collapsed": false
   },
   "outputs": [
    {
     "data": {
      "text/plain": [
       "array([[-0.1065413 , -0.43935828, -0.18800085,  0.22628678,  0.00359545,\n",
       "         0.29676991,  0.83726699, -0.06368237, -0.20914591,  0.30206847,\n",
       "        -0.17140048, -0.16266699, -0.43961637, -0.02503293,  0.30850138]])"
      ]
     },
     "execution_count": 166,
     "metadata": {},
     "output_type": "execute_result"
    }
   ],
   "source": [
    "weights(y, X, LogisticRegression(penalty = 'l2', C = 0.15, class_weight = 'balanced'))"
   ]
  },
  {
   "cell_type": "markdown",
   "metadata": {},
   "source": [
    "#### SVC"
   ]
  },
  {
   "cell_type": "code",
   "execution_count": 167,
   "metadata": {
    "collapsed": false,
    "scrolled": false
   },
   "outputs": [
    {
     "data": {
      "image/png": "[encoded data removed]",
      "text/plain": [
       "<matplotlib.figure.Figure at 0x11108ac18>"
      ]
     },
     "metadata": {},
     "output_type": "display_data"
    },
    {
     "name": "stdout",
     "output_type": "stream",
     "text": [
      "Оптимальное значение метрики качества recall: 1.00 для C = 0.01\n",
      "Оптимальное значение метрики качества accuracy: 0.83 для C = 0.31\n"
     ]
    }
   ],
   "source": [
    "result = classifier(y, X,\\\n",
    "                    SVC(kernel = 'linear',class_weight = 'balanced', random_state = 243), {'C': np.linspace(0.01, 1, 50)}, 'SVC')"
   ]
  },
  {
   "cell_type": "markdown",
   "metadata": {},
   "source": [
    "Оптимальное значение гиперпараметров для метода опорных векторов: C = 0.1, ядро: линейное"
   ]
  },
  {
   "cell_type": "code",
   "execution_count": 171,
   "metadata": {
    "collapsed": false
   },
   "outputs": [
    {
     "name": "stdout",
     "output_type": "stream",
     "text": [
      "0.933333333333 0.787142857143\n"
     ]
    }
   ],
   "source": [
    "count = 0\n",
    "for x in np.linspace(0.01, 1, 50):\n",
    "    count += 1\n",
    "    if abs(x - 0.1) < 0.01:\n",
    "        print(result[0][count], result[1][count])"
   ]
  },
  {
   "cell_type": "code",
   "execution_count": 172,
   "metadata": {
    "collapsed": false
   },
   "outputs": [
    {
     "data": {
      "text/plain": [
       "array([[-0.17646635, -0.4852796 , -0.21649361,  0.01093001,  0.12333153,\n",
       "         0.13251067,  0.91919777, -0.08221554, -0.24073664,  0.33539047,\n",
       "        -0.33018385, -0.28469552, -0.5235223 ,  0.39197394,  0.36311383]])"
      ]
     },
     "execution_count": 172,
     "metadata": {},
     "output_type": "execute_result"
    }
   ],
   "source": [
    "weights(y, X, SVC(kernel = 'linear',C = 0.1, class_weight = 'balanced'))"
   ]
  },
  {
   "cell_type": "markdown",
   "metadata": {},
   "source": [
    "#### Решающие деревья"
   ]
  },
  {
   "cell_type": "code",
   "execution_count": 173,
   "metadata": {
    "collapsed": false
   },
   "outputs": [
    {
     "data": {
      "image/png": "[encoded data removed]",
      "text/plain": [
       "<matplotlib.figure.Figure at 0x1144dd0b8>"
      ]
     },
     "metadata": {},
     "output_type": "display_data"
    },
    {
     "name": "stdout",
     "output_type": "stream",
     "text": [
      "Оптимальное значение метрики качества recall: 0.30 для n_estimators = 7.00\n",
      "Оптимальное значение метрики качества accuracy: 0.87 для n_estimators = 8.00\n"
     ]
    }
   ],
   "source": [
    "result = classifier(y, X,\\\n",
    "                    RandomForestClassifier(random_state = 243), {'n_estimators': list(range(1, 100))}, 'Random Forest')"
   ]
  },
  {
   "cell_type": "code",
   "execution_count": 174,
   "metadata": {
    "collapsed": false
   },
   "outputs": [
    {
     "name": "stdout",
     "output_type": "stream",
     "text": [
      "0.3 0.845238095238\n"
     ]
    }
   ],
   "source": [
    "count = 0\n",
    "for x in range(1, 50):\n",
    "    count += 1\n",
    "    if abs(x - 10) == 0:\n",
    "        print(result[0][count], result[1][count])"
   ]
  },
  {
   "cell_type": "markdown",
   "metadata": {},
   "source": [
    "Оптимальное количество деревьев: 10"
   ]
  },
  {
   "cell_type": "code",
   "execution_count": 177,
   "metadata": {
    "collapsed": false
   },
   "outputs": [
    {
     "data": {
      "text/plain": [
       "array([ 0.05880905,  0.01551229,  0.00503053,  0.03865684,  0.03031271,\n",
       "        0.07365887,  0.18308573,  0.04519206,  0.09407387,  0.13835464,\n",
       "        0.05028228,  0.03365163,  0.11788132,  0.06631281,  0.04918536])"
      ]
     },
     "execution_count": 177,
     "metadata": {},
     "output_type": "execute_result"
    }
   ],
   "source": [
    "clf = RandomForestClassifier(n_estimators = 10, random_state = 243)\n",
    "clf.fit(X, y)\n",
    "clf.feature_importances_"
   ]
  },
  {
   "cell_type": "markdown",
   "metadata": {},
   "source": [
    "#### Случай №2: random_state = 42"
   ]
  },
  {
   "cell_type": "code",
   "execution_count": 180,
   "metadata": {
    "collapsed": true
   },
   "outputs": [],
   "source": [
    "def classifier(y, X, clf, grid, title, allow_max = True):\n",
    "    cv = KFold(X.shape[0], n_folds = 5, shuffle=True, random_state = 42)\n",
    "    \n",
    "    gs1 = grid_search.GridSearchCV(clf, grid, scoring='recall', cv=cv)\n",
    "    gs1.fit(X, y)\n",
    "    result1 = []\n",
    "    for i in range(len(gs1.grid_scores_)):\n",
    "        result1.append(gs1.grid_scores_[i][2].mean())\n",
    "    \n",
    "    gs2 = grid_search.GridSearchCV(clf, grid, scoring='accuracy', cv=cv)\n",
    "    gs2.fit(X, y)\n",
    "    result2 = []\n",
    "    for i in range(len(gs2.grid_scores_)):\n",
    "        result2.append(gs2.grid_scores_[i][2].mean())\n",
    "\n",
    "    plt.figure(figsize = (8, 6))\n",
    "    plt.plot(grid[list(grid.keys())[0]], result1, c = 'b', label = 'recall')\n",
    "    plt.plot(grid[list(grid.keys())[0]], result2, c = 'r', label = 'accuracy')\n",
    "    plt.title(title)\n",
    "    plt.xlabel(list(grid.keys())[0])\n",
    "    plt.ylabel('accuracy or recall')\n",
    "    plt.legend()\n",
    "    plt.show()\n",
    "    print('Оптимальное значение метрики качества %s: %.2f для %s = %.2f' % ('recall',max(result1), list(grid.keys())[0], grid[list(grid.keys())[0]][result1.index(max(result1))]))\n",
    "    print('Оптимальное значение метрики качества %s: %.2f для %s = %.2f' % ('accuracy',max(result2), list(grid.keys())[0], grid[list(grid.keys())[0]][result2.index(max(result2))]))\n",
    "    return [result1, result2]"
   ]
  },
  {
   "cell_type": "markdown",
   "metadata": {},
   "source": [
    "#### Логистическая регрессия"
   ]
  },
  {
   "cell_type": "code",
   "execution_count": 221,
   "metadata": {
    "collapsed": false,
    "scrolled": false
   },
   "outputs": [
    {
     "data": {
      "image/png": "[encoded data removed]",
      "text/plain": [
       "<matplotlib.figure.Figure at 0x111b9e320>"
      ]
     },
     "metadata": {},
     "output_type": "display_data"
    },
    {
     "name": "stdout",
     "output_type": "stream",
     "text": [
      "Оптимальное значение метрики качества recall: 1.00 для C = 0.01\n",
      "Оптимальное значение метрики качества accuracy: 0.78 для C = 0.92\n"
     ]
    }
   ],
   "source": [
    "result = classifier(y, X, LogisticRegression(class_weight = 'balanced'), {'C': np.linspace(0.01, 1, 50)}, 'Logistic Regression')"
   ]
  },
  {
   "cell_type": "code",
   "execution_count": 227,
   "metadata": {
    "collapsed": false
   },
   "outputs": [
    {
     "name": "stdout",
     "output_type": "stream",
     "text": [
      "1.0 0.745238095238\n"
     ]
    }
   ],
   "source": [
    "count = 0\n",
    "for x in np.linspace(0.01, 1, 50):\n",
    "    count += 1\n",
    "    if abs(x - 0.35) < 0.009:\n",
    "        print(result[0][count], result[1][count])"
   ]
  },
  {
   "cell_type": "code",
   "execution_count": 224,
   "metadata": {
    "collapsed": false
   },
   "outputs": [
    {
     "data": {
      "text/plain": [
       "array([[-0.151261  , -0.66621148, -0.30022687,  0.28981603, -0.02535699,\n",
       "         0.38544823,  1.23414143, -0.04870221, -0.26672076,  0.41451783,\n",
       "        -0.30447697, -0.25822281, -0.61685691, -0.03563583,  0.51278251]])"
      ]
     },
     "execution_count": 224,
     "metadata": {},
     "output_type": "execute_result"
    }
   ],
   "source": [
    "weights(y, X, LogisticRegression(penalty = 'l2', C = 0.4, class_weight = 'balanced'))"
   ]
  },
  {
   "cell_type": "markdown",
   "metadata": {},
   "source": [
    "#### SVC"
   ]
  },
  {
   "cell_type": "code",
   "execution_count": 184,
   "metadata": {
    "collapsed": false
   },
   "outputs": [
    {
     "data": {
      "image/png": "[encoded data removed]",
      "text/plain": [
       "<matplotlib.figure.Figure at 0x11513ca90>"
      ]
     },
     "metadata": {},
     "output_type": "display_data"
    },
    {
     "name": "stdout",
     "output_type": "stream",
     "text": [
      "Оптимальное значение метрики качества recall: 1.00 для C = 0.01\n",
      "Оптимальное значение метрики качества accuracy: 0.79 для C = 0.17\n"
     ]
    }
   ],
   "source": [
    "result = classifier(y, X,\\\n",
    "                    SVC(kernel = 'linear',class_weight = 'balanced', random_state = 243), {'C': np.linspace(0.01, 1, 50)}, 'SVC')"
   ]
  },
  {
   "cell_type": "code",
   "execution_count": 185,
   "metadata": {
    "collapsed": false
   },
   "outputs": [
    {
     "name": "stdout",
     "output_type": "stream",
     "text": [
      "0.95 0.794285714286\n"
     ]
    }
   ],
   "source": [
    "count = 0\n",
    "for x in np.linspace(0.01, 1, 50):\n",
    "    count += 1\n",
    "    if abs(x - 0.5) < 0.009:\n",
    "        print(result[0][count], result[1][count])"
   ]
  },
  {
   "cell_type": "code",
   "execution_count": 186,
   "metadata": {
    "collapsed": false
   },
   "outputs": [
    {
     "data": {
      "text/plain": [
       "array([[-0.65042643, -0.49630917, -0.71607174,  0.0332765 ,  0.16014206,\n",
       "         0.13200382,  1.51104793, -0.06995366, -0.34801588,  0.567025  ,\n",
       "        -0.43962648, -0.35518897, -0.7505604 ,  0.2849906 ,  0.62222888]])"
      ]
     },
     "execution_count": 186,
     "metadata": {},
     "output_type": "execute_result"
    }
   ],
   "source": [
    "weights(y, X, SVC(kernel = 'linear',C = 0.5, class_weight = 'balanced'))"
   ]
  },
  {
   "cell_type": "markdown",
   "metadata": {},
   "source": [
    "#### Случайный лес"
   ]
  },
  {
   "cell_type": "code",
   "execution_count": 189,
   "metadata": {
    "collapsed": false
   },
   "outputs": [
    {
     "data": {
      "image/png": "[encoded data removed]",
      "text/plain": [
       "<matplotlib.figure.Figure at 0x110fda208>"
      ]
     },
     "metadata": {},
     "output_type": "display_data"
    },
    {
     "name": "stdout",
     "output_type": "stream",
     "text": [
      "Оптимальное значение метрики качества recall: 0.32 для n_estimators = 3.00\n",
      "Оптимальное значение метрики качества accuracy: 0.88 для n_estimators = 10.00\n"
     ]
    }
   ],
   "source": [
    "result = classifier(y, X,\\\n",
    "                    RandomForestClassifier(random_state = 243), {'n_estimators': list(range(1, 100))}, 'Random Forest')"
   ]
  },
  {
   "cell_type": "code",
   "execution_count": 190,
   "metadata": {
    "collapsed": false
   },
   "outputs": [
    {
     "data": {
      "text/plain": [
       "array([ 0.09217497,  0.        ,  0.        ,  0.        ,  0.03288633,\n",
       "        0.02466475,  0.17172197,  0.08736584,  0.141217  ,  0.02466475,\n",
       "        0.02466475,  0.        ,  0.12493901,  0.15707552,  0.1186251 ])"
      ]
     },
     "execution_count": 190,
     "metadata": {},
     "output_type": "execute_result"
    }
   ],
   "source": [
    "clf = RandomForestClassifier(n_estimators = 2, random_state = 243)\n",
    "clf.fit(X, y)\n",
    "clf.feature_importances_"
   ]
  },
  {
   "cell_type": "markdown",
   "metadata": {},
   "source": [
    "#### L-1 регуляризация + логистическая регрессия"
   ]
  },
  {
   "cell_type": "markdown",
   "metadata": {},
   "source": [
    "Оптимальное значение C: 0.4\n",
    "\n",
    "Random_states: 43, 88, 323"
   ]
  },
  {
   "cell_type": "code",
   "execution_count": 273,
   "metadata": {
    "collapsed": false
   },
   "outputs": [],
   "source": [
    "from sklearn.cross_validation import train_test_split\n",
    "X_train, X_test, y_train, y_test = train_test_split(X, y, test_size=0.2, random_state = 323)"
   ]
  },
  {
   "cell_type": "code",
   "execution_count": 274,
   "metadata": {
    "collapsed": false
   },
   "outputs": [
    {
     "data": {
      "text/plain": [
       "array([[ 0.        , -0.53723655, -0.01398672,  0.14523719,  0.        ,\n",
       "         0.36721262,  1.31146346,  0.        ,  0.        ,  0.22107646,\n",
       "         0.        ,  0.        , -0.30869536,  0.        ,  0.10627712]])"
      ]
     },
     "execution_count": 274,
     "metadata": {},
     "output_type": "execute_result"
    }
   ],
   "source": [
    "model = LogisticRegression(penalty = 'l1', C = 0.4, class_weight = 'balanced')\n",
    "model.fit(X_train, y_train)\n",
    "model.coef_"
   ]
  },
  {
   "cell_type": "code",
   "execution_count": 275,
   "metadata": {
    "collapsed": false
   },
   "outputs": [
    {
     "data": {
      "text/plain": [
       "1.0"
      ]
     },
     "execution_count": 275,
     "metadata": {},
     "output_type": "execute_result"
    }
   ],
   "source": [
    "from sklearn.metrics import recall_score\n",
    "recall_score(y_test, model.predict(X_test))"
   ]
  },
  {
   "cell_type": "code",
   "execution_count": 276,
   "metadata": {
    "collapsed": false
   },
   "outputs": [
    {
     "data": {
      "text/plain": [
       "0.76190476190476186"
      ]
     },
     "execution_count": 276,
     "metadata": {},
     "output_type": "execute_result"
    }
   ],
   "source": [
    "from sklearn.metrics import accuracy_score\n",
    "accuracy_score(y_test, model.predict(X_test))"
   ]
  },
  {
   "cell_type": "markdown",
   "metadata": {},
   "source": [
    "### Построение предсказаний"
   ]
  },
  {
   "cell_type": "markdown",
   "metadata": {},
   "source": [
    "Отберем признаки, относительно которых мы рассматриваем расстояние"
   ]
  },
  {
   "cell_type": "code",
   "execution_count": 418,
   "metadata": {
    "collapsed": false
   },
   "outputs": [],
   "source": [
    "columns = []\n",
    "for i in [1, 5, 6, 9, 12]:\n",
    "    columns.append(df.columns.values[i])"
   ]
  },
  {
   "cell_type": "code",
   "execution_count": 419,
   "metadata": {
    "collapsed": false
   },
   "outputs": [],
   "source": [
    "indexes = []\n",
    "count = 0\n",
    "for i in df.index:\n",
    "    if df.at[i, 'Conflicts'] == 1:\n",
    "        indexes.append(count)\n",
    "    count += 1"
   ]
  },
  {
   "cell_type": "code",
   "execution_count": 420,
   "metadata": {
    "collapsed": true
   },
   "outputs": [],
   "source": [
    "X = df[columns].values\n",
    "X = scale(X)"
   ]
  },
  {
   "cell_type": "code",
   "execution_count": 421,
   "metadata": {
    "collapsed": false,
    "scrolled": true
   },
   "outputs": [
    {
     "name": "stderr",
     "output_type": "stream",
     "text": [
      "/Users/nichitagherman/anaconda/lib/python3.5/site-packages/sklearn/utils/validation.py:386: DeprecationWarning: Passing 1d arrays as data is deprecated in 0.17 and willraise ValueError in 0.19. Reshape your data either using X.reshape(-1, 1) if your data has a single feature or X.reshape(1, -1) if it contains a single sample.\n",
      "  DeprecationWarning)\n",
      "/Users/nichitagherman/anaconda/lib/python3.5/site-packages/sklearn/utils/validation.py:386: DeprecationWarning: Passing 1d arrays as data is deprecated in 0.17 and willraise ValueError in 0.19. Reshape your data either using X.reshape(-1, 1) if your data has a single feature or X.reshape(1, -1) if it contains a single sample.\n",
      "  DeprecationWarning)\n",
      "/Users/nichitagherman/anaconda/lib/python3.5/site-packages/sklearn/utils/validation.py:386: DeprecationWarning: Passing 1d arrays as data is deprecated in 0.17 and willraise ValueError in 0.19. Reshape your data either using X.reshape(-1, 1) if your data has a single feature or X.reshape(1, -1) if it contains a single sample.\n",
      "  DeprecationWarning)\n",
      "/Users/nichitagherman/anaconda/lib/python3.5/site-packages/sklearn/utils/validation.py:386: DeprecationWarning: Passing 1d arrays as data is deprecated in 0.17 and willraise ValueError in 0.19. Reshape your data either using X.reshape(-1, 1) if your data has a single feature or X.reshape(1, -1) if it contains a single sample.\n",
      "  DeprecationWarning)\n",
      "/Users/nichitagherman/anaconda/lib/python3.5/site-packages/sklearn/utils/validation.py:386: DeprecationWarning: Passing 1d arrays as data is deprecated in 0.17 and willraise ValueError in 0.19. Reshape your data either using X.reshape(-1, 1) if your data has a single feature or X.reshape(1, -1) if it contains a single sample.\n",
      "  DeprecationWarning)\n",
      "/Users/nichitagherman/anaconda/lib/python3.5/site-packages/sklearn/utils/validation.py:386: DeprecationWarning: Passing 1d arrays as data is deprecated in 0.17 and willraise ValueError in 0.19. Reshape your data either using X.reshape(-1, 1) if your data has a single feature or X.reshape(1, -1) if it contains a single sample.\n",
      "  DeprecationWarning)\n",
      "/Users/nichitagherman/anaconda/lib/python3.5/site-packages/sklearn/utils/validation.py:386: DeprecationWarning: Passing 1d arrays as data is deprecated in 0.17 and willraise ValueError in 0.19. Reshape your data either using X.reshape(-1, 1) if your data has a single feature or X.reshape(1, -1) if it contains a single sample.\n",
      "  DeprecationWarning)\n",
      "/Users/nichitagherman/anaconda/lib/python3.5/site-packages/sklearn/utils/validation.py:386: DeprecationWarning: Passing 1d arrays as data is deprecated in 0.17 and willraise ValueError in 0.19. Reshape your data either using X.reshape(-1, 1) if your data has a single feature or X.reshape(1, -1) if it contains a single sample.\n",
      "  DeprecationWarning)\n",
      "/Users/nichitagherman/anaconda/lib/python3.5/site-packages/sklearn/utils/validation.py:386: DeprecationWarning: Passing 1d arrays as data is deprecated in 0.17 and willraise ValueError in 0.19. Reshape your data either using X.reshape(-1, 1) if your data has a single feature or X.reshape(1, -1) if it contains a single sample.\n",
      "  DeprecationWarning)\n",
      "/Users/nichitagherman/anaconda/lib/python3.5/site-packages/sklearn/utils/validation.py:386: DeprecationWarning: Passing 1d arrays as data is deprecated in 0.17 and willraise ValueError in 0.19. Reshape your data either using X.reshape(-1, 1) if your data has a single feature or X.reshape(1, -1) if it contains a single sample.\n",
      "  DeprecationWarning)\n",
      "/Users/nichitagherman/anaconda/lib/python3.5/site-packages/sklearn/utils/validation.py:386: DeprecationWarning: Passing 1d arrays as data is deprecated in 0.17 and willraise ValueError in 0.19. Reshape your data either using X.reshape(-1, 1) if your data has a single feature or X.reshape(1, -1) if it contains a single sample.\n",
      "  DeprecationWarning)\n",
      "/Users/nichitagherman/anaconda/lib/python3.5/site-packages/sklearn/utils/validation.py:386: DeprecationWarning: Passing 1d arrays as data is deprecated in 0.17 and willraise ValueError in 0.19. Reshape your data either using X.reshape(-1, 1) if your data has a single feature or X.reshape(1, -1) if it contains a single sample.\n",
      "  DeprecationWarning)\n",
      "/Users/nichitagherman/anaconda/lib/python3.5/site-packages/sklearn/utils/validation.py:386: DeprecationWarning: Passing 1d arrays as data is deprecated in 0.17 and willraise ValueError in 0.19. Reshape your data either using X.reshape(-1, 1) if your data has a single feature or X.reshape(1, -1) if it contains a single sample.\n",
      "  DeprecationWarning)\n"
     ]
    }
   ],
   "source": [
    "from sklearn.neighbors import KDTree\n",
    "tree = KDTree(X)\n",
    "result = [[] for x in range(13)]\n",
    "count = 0\n",
    "for i in indexes:\n",
    "    dist, ind = tree.query(X[i], k=4)\n",
    "    for k in ind[0][1:]:\n",
    "        result[count].append(k)\n",
    "    count += 1"
   ]
  },
  {
   "cell_type": "code",
   "execution_count": 422,
   "metadata": {
    "collapsed": false
   },
   "outputs": [],
   "source": [
    "result_countries = pd.Series([])\n",
    "count = 0\n",
    "for k in result:\n",
    "    for i in k:\n",
    "        if i not in indexes:\n",
    "            result_countries[count] = i\n",
    "            count += 1"
   ]
  },
  {
   "cell_type": "code",
   "execution_count": 434,
   "metadata": {
    "collapsed": false
   },
   "outputs": [],
   "source": [
    "itog = result_countries.value_counts()[:7].index"
   ]
  },
  {
   "cell_type": "code",
   "execution_count": 435,
   "metadata": {
    "collapsed": false
   },
   "outputs": [
    {
     "name": "stdout",
     "output_type": "stream",
     "text": [
      "Haiti\n",
      "Nigeria\n",
      "Armenia\n",
      "Zambia\n",
      "Mauritania\n",
      "Eritrea\n",
      "Indonesia\n"
     ]
    }
   ],
   "source": [
    "for i in itog:\n",
    "    print(df.index[i])"
   ]
  },
  {
   "cell_type": "code",
   "execution_count": 436,
   "metadata": {
    "collapsed": false
   },
   "outputs": [
    {
     "data": {
      "text/plain": [
       "Total internal renewable water resources (IRWR) per capita (1990 - 2015)    648.869114\n",
       "Surface water: inflow not submitted to treaties per capita (1990 - 2015)    162.217278\n",
       "Surface water: accounted flow of border rivers per capita (1990 - 2015)     884.084168\n",
       "Groundwater entering the country per capita (2013)                            0.000000\n",
       "Interannual variability (WRI)                                                 4.300000\n",
       "Dependency ratio                                                             61.720000\n",
       "Agricultural water withdrawal                                                 0.823258\n",
       "Total population with access to safe drinking-water (JMP)(1990 - 2013)        0.543200\n",
       "GDP per capita (1990 - 2015)                                                414.400000\n",
       "GDP per capita growth                                                         0.064725\n",
       "population_density                                                           36.696000\n",
       "Total dam capacity growth                                                     0.000000\n",
       "Corruption (CPI 2015)                                                        18.000000\n",
       "Cooperation Index                                                            61.720000\n",
       "Pollution_index (2011)                                                       55.270000\n",
       "Conflicts                                                                    -1.000000\n",
       "Name: Eritrea, dtype: float64"
      ]
     },
     "execution_count": 436,
     "metadata": {},
     "output_type": "execute_result"
    }
   ],
   "source": [
    "df.loc['Eritrea', :]"
   ]
  },
  {
   "cell_type": "code",
   "execution_count": 391,
   "metadata": {
    "collapsed": false
   },
   "outputs": [
    {
     "data": {
      "text/plain": [
       "Total internal renewable water resources (IRWR) per capita (1990 - 2015)    6572.064628\n",
       "Surface water: inflow not submitted to treaties per capita (1990 - 2015)    2015.870198\n",
       "Surface water: accounted flow of border rivers per capita (1990 - 2015)        0.000000\n",
       "Groundwater entering the country per capita (2013)                             0.000000\n",
       "Interannual variability (WRI)                                                  2.100000\n",
       "Dependency ratio                                                              23.470000\n",
       "Agricultural water withdrawal                                                  0.757283\n",
       "Total population with access to safe drinking-water (JMP)(1990 - 2013)         0.572833\n",
       "GDP per capita (1990 - 2015)                                                 941.383333\n",
       "GDP per capita growth                                                          0.062011\n",
       "population_density                                                            16.215000\n",
       "Total dam capacity growth                                                      0.000000\n",
       "Corruption (CPI 2015)                                                         38.000000\n",
       "Cooperation Index                                                             15.329623\n",
       "Pollution_index (2011)                                                        57.540000\n",
       "Conflicts                                                                     -1.000000\n",
       "Name: Zambia, dtype: float64"
      ]
     },
     "execution_count": 391,
     "metadata": {},
     "output_type": "execute_result"
    }
   ],
   "source": [
    "df.loc['Zambia', :]"
   ]
  },
  {
   "cell_type": "code",
   "execution_count": 437,
   "metadata": {
    "collapsed": false
   },
   "outputs": [
    {
     "data": {
      "text/plain": [
       "Total internal renewable water resources (IRWR) per capita (1990 - 2015)    1422.091053\n",
       "Surface water: inflow not submitted to treaties per capita (1990 - 2015)     110.947150\n",
       "Surface water: accounted flow of border rivers per capita (1990 - 2015)        0.000000\n",
       "Groundwater entering the country per capita (2013)                             0.000000\n",
       "Interannual variability (WRI)                                                  2.400000\n",
       "Dependency ratio                                                               7.237000\n",
       "Agricultural water withdrawal                                                  0.895695\n",
       "Total population with access to safe drinking-water (JMP)(1990 - 2013)         0.602833\n",
       "GDP per capita (1990 - 2015)                                                 551.066667\n",
       "GDP per capita growth                                                          0.039940\n",
       "population_density                                                           318.420000\n",
       "Total dam capacity growth                                                      0.000000\n",
       "Corruption (CPI 2015)                                                         17.000000\n",
       "Cooperation Index                                                              7.237000\n",
       "Pollution_index (2011)                                                        75.620000\n",
       "Conflicts                                                                     -1.000000\n",
       "Name: Haiti, dtype: float64"
      ]
     },
     "execution_count": 437,
     "metadata": {},
     "output_type": "execute_result"
    }
   ],
   "source": [
    "df.loc['Haiti', :]"
   ]
  },
  {
   "cell_type": "code",
   "execution_count": 438,
   "metadata": {
    "collapsed": false
   },
   "outputs": [
    {
     "data": {
      "text/plain": [
       "Total internal renewable water resources (IRWR) per capita (1990 - 2015)    1575.931743\n",
       "Surface water: inflow not submitted to treaties per capita (1990 - 2015)     464.935519\n",
       "Surface water: accounted flow of border rivers per capita (1990 - 2015)        0.000000\n",
       "Groundwater entering the country per capita (2013)                             0.000000\n",
       "Interannual variability (WRI)                                                  1.200000\n",
       "Dependency ratio                                                              22.780000\n",
       "Agricultural water withdrawal                                                  0.535981\n",
       "Total population with access to safe drinking-water (JMP)(1990 - 2013)         0.565000\n",
       "GDP per capita (1990 - 2015)                                                1342.333333\n",
       "GDP per capita growth                                                          0.099536\n",
       "population_density                                                           151.800000\n",
       "Total dam capacity growth                                                      0.000122\n",
       "Corruption (CPI 2015)                                                         26.000000\n",
       "Cooperation Index                                                             14.030581\n",
       "Pollution_index (2011)                                                        52.000000\n",
       "Conflicts                                                                     -1.000000\n",
       "Name: Nigeria, dtype: float64"
      ]
     },
     "execution_count": 438,
     "metadata": {},
     "output_type": "execute_result"
    }
   ],
   "source": [
    "df.loc['Nigeria', :]"
   ]
  },
  {
   "cell_type": "code",
   "execution_count": 440,
   "metadata": {
    "collapsed": false
   },
   "outputs": [
    {
     "data": {
      "text/plain": [
       "Total internal renewable water resources (IRWR) per capita (1990 - 2015)    9000.775698\n",
       "Surface water: inflow not submitted to treaties per capita (1990 - 2015)       0.000000\n",
       "Surface water: accounted flow of border rivers per capita (1990 - 2015)        0.000000\n",
       "Groundwater entering the country per capita (2013)                             0.000000\n",
       "Interannual variability (WRI)                                                  1.100000\n",
       "Dependency ratio                                                               0.000000\n",
       "Agricultural water withdrawal                                                  0.875054\n",
       "Total population with access to safe drinking-water (JMP)(1990 - 2013)         0.802667\n",
       "GDP per capita (1990 - 2015)                                                1953.333333\n",
       "GDP per capita growth                                                          0.063522\n",
       "population_density                                                           117.410000\n",
       "Total dam capacity growth                                                      0.000068\n",
       "Corruption (CPI 2015)                                                         36.000000\n",
       "Cooperation Index                                                              0.000000\n",
       "Pollution_index (2011)                                                        83.810000\n",
       "Conflicts                                                                     -1.000000\n",
       "Name: Indonesia, dtype: float64"
      ]
     },
     "execution_count": 440,
     "metadata": {},
     "output_type": "execute_result"
    }
   ],
   "source": [
    "df.loc['Indonesia', :]"
   ]
  },
  {
   "cell_type": "code",
   "execution_count": 442,
   "metadata": {
    "collapsed": false
   },
   "outputs": [
    {
     "data": {
      "text/html": [
       "<div>\n",
       "<table border=\"1\" class=\"dataframe\">\n",
       "  <thead>\n",
       "    <tr style=\"text-align: right;\">\n",
       "      <th></th>\n",
       "      <th>Area</th>\n",
       "      <th>Variable Name</th>\n",
       "      <th>Year</th>\n",
       "      <th>Value</th>\n",
       "      <th>Conflicts</th>\n",
       "    </tr>\n",
       "  </thead>\n",
       "  <tbody>\n",
       "    <tr>\n",
       "      <th>581</th>\n",
       "      <td>Indonesia</td>\n",
       "      <td>GDP per capita</td>\n",
       "      <td>1982</td>\n",
       "      <td>613.0</td>\n",
       "      <td>-1</td>\n",
       "    </tr>\n",
       "    <tr>\n",
       "      <th>4319</th>\n",
       "      <td>Indonesia</td>\n",
       "      <td>GDP per capita</td>\n",
       "      <td>1987</td>\n",
       "      <td>442.1</td>\n",
       "      <td>-1</td>\n",
       "    </tr>\n",
       "    <tr>\n",
       "      <th>8304</th>\n",
       "      <td>Indonesia</td>\n",
       "      <td>GDP per capita</td>\n",
       "      <td>1992</td>\n",
       "      <td>740.3</td>\n",
       "      <td>-1</td>\n",
       "    </tr>\n",
       "    <tr>\n",
       "      <th>13396</th>\n",
       "      <td>Indonesia</td>\n",
       "      <td>GDP per capita</td>\n",
       "      <td>1997</td>\n",
       "      <td>1065.0</td>\n",
       "      <td>-1</td>\n",
       "    </tr>\n",
       "    <tr>\n",
       "      <th>18579</th>\n",
       "      <td>Indonesia</td>\n",
       "      <td>GDP per capita</td>\n",
       "      <td>2002</td>\n",
       "      <td>901.7</td>\n",
       "      <td>-1</td>\n",
       "    </tr>\n",
       "    <tr>\n",
       "      <th>24319</th>\n",
       "      <td>Indonesia</td>\n",
       "      <td>GDP per capita</td>\n",
       "      <td>2007</td>\n",
       "      <td>1860.0</td>\n",
       "      <td>-1</td>\n",
       "    </tr>\n",
       "    <tr>\n",
       "      <th>29801</th>\n",
       "      <td>Indonesia</td>\n",
       "      <td>GDP per capita</td>\n",
       "      <td>2012</td>\n",
       "      <td>3701.0</td>\n",
       "      <td>-1</td>\n",
       "    </tr>\n",
       "    <tr>\n",
       "      <th>35200</th>\n",
       "      <td>Indonesia</td>\n",
       "      <td>GDP per capita</td>\n",
       "      <td>2014</td>\n",
       "      <td>3452.0</td>\n",
       "      <td>-1</td>\n",
       "    </tr>\n",
       "  </tbody>\n",
       "</table>\n",
       "</div>"
      ],
      "text/plain": [
       "            Area   Variable Name  Year   Value  Conflicts\n",
       "581    Indonesia  GDP per capita  1982   613.0         -1\n",
       "4319   Indonesia  GDP per capita  1987   442.1         -1\n",
       "8304   Indonesia  GDP per capita  1992   740.3         -1\n",
       "13396  Indonesia  GDP per capita  1997  1065.0         -1\n",
       "18579  Indonesia  GDP per capita  2002   901.7         -1\n",
       "24319  Indonesia  GDP per capita  2007  1860.0         -1\n",
       "29801  Indonesia  GDP per capita  2012  3701.0         -1\n",
       "35200  Indonesia  GDP per capita  2014  3452.0         -1"
      ]
     },
     "execution_count": 442,
     "metadata": {},
     "output_type": "execute_result"
    }
   ],
   "source": [
    "df1[(df1['Area'] == 'Indonesia') & (df1['Variable Name'] == 'GDP per capita')]"
   ]
  },
  {
   "cell_type": "code",
   "execution_count": 282,
   "metadata": {
    "collapsed": true
   },
   "outputs": [],
   "source": [
    "from sklearn.neighbors import KNeighborsClassifier"
   ]
  },
  {
   "cell_type": "markdown",
   "metadata": {},
   "source": [
    "## Расчеты"
   ]
  },
  {
   "cell_type": "markdown",
   "metadata": {},
   "source": [
    "#### Ближний Восток"
   ]
  },
  {
   "cell_type": "markdown",
   "metadata": {},
   "source": [
    "#### (1)"
   ]
  },
  {
   "cell_type": "code",
   "execution_count": 50,
   "metadata": {
    "collapsed": true
   },
   "outputs": [],
   "source": [
    "countries = ['Azerbaijan', 'Armenia', 'Bahrain', 'Georgia', 'Israel', 'Iraq', 'Iran (Islamic Republic of)',\\\n",
    "             'Yemen', 'Jordan', 'Qatar', 'Cyprus', 'Kuwait', 'Lebanon', 'United Arab Emirates',\\\n",
    "             'Oman', 'Occupied Palestinian Territory', 'Saudi Arabia', 'Syrian Arab Republic', 'Turkey']"
   ]
  },
  {
   "cell_type": "code",
   "execution_count": 51,
   "metadata": {
    "collapsed": false
   },
   "outputs": [
    {
     "data": {
      "text/plain": [
       "0.04579257723070998"
      ]
     },
     "execution_count": 51,
     "metadata": {},
     "output_type": "execute_result"
    }
   ],
   "source": [
    "dic['df2013'].loc[countries, :]['Total population'].sum()/dic['df2013']['Total population'].sum()"
   ]
  },
  {
   "cell_type": "code",
   "execution_count": 52,
   "metadata": {
    "collapsed": false
   },
   "outputs": [
    {
     "data": {
      "text/plain": [
       "0.010524967731936369"
      ]
     },
     "execution_count": 52,
     "metadata": {},
     "output_type": "execute_result"
    }
   ],
   "source": [
    "dic['df2013'].loc[countries, :]['Total renewable water resources'].sum()/dic['df2013']['Total renewable water resources'].sum()"
   ]
  },
  {
   "cell_type": "markdown",
   "metadata": {},
   "source": [
    "#### (2) - с поправкой на изменение численности населения Израиля с 2010 по 2013 год (в Stategic Foresight Group 2010 их 7.3 млн, а в наших данных - 8 млн) + (6)"
   ]
  },
  {
   "cell_type": "code",
   "execution_count": 53,
   "metadata": {
    "collapsed": false
   },
   "outputs": [
    {
     "data": {
      "text/plain": [
       "Azerbaijan                         9754.0\n",
       "Armenia                            3018.0\n",
       "Bahrain                            1377.0\n",
       "Georgia                            4000.0\n",
       "Israel                             8064.0\n",
       "Iraq                              36423.0\n",
       "Iran (Islamic Republic of)        79109.0\n",
       "Yemen                             26832.0\n",
       "Jordan                             7595.0\n",
       "Qatar                              2235.0\n",
       "Cyprus                             1165.0\n",
       "Kuwait                             3892.0\n",
       "Lebanon                            5851.0\n",
       "United Arab Emirates               9157.0\n",
       "Oman                               4491.0\n",
       "Occupied Palestinian Territory     4668.0\n",
       "Saudi Arabia                      31540.0\n",
       "Syrian Arab Republic              18502.0\n",
       "Turkey                            78666.0\n",
       "Name: Total population, dtype: float64"
      ]
     },
     "execution_count": 53,
     "metadata": {},
     "output_type": "execute_result"
    }
   ],
   "source": [
    "dic['df2013'].loc[countries, :]['Total population']"
   ]
  },
  {
   "cell_type": "code",
   "execution_count": 54,
   "metadata": {
    "collapsed": false,
    "scrolled": true
   },
   "outputs": [
    {
     "data": {
      "text/plain": [
       "Azerbaijan                         3555.000\n",
       "Armenia                            2574.000\n",
       "Bahrain                              84.240\n",
       "Georgia                           15832.000\n",
       "Israel                              220.700\n",
       "Iraq                               2467.000\n",
       "Iran (Islamic Republic of)         1732.000\n",
       "Yemen                                78.260\n",
       "Jordan                              123.400\n",
       "Qatar                                25.950\n",
       "Cyprus                              669.500\n",
       "Kuwait                                5.139\n",
       "Lebanon                             769.600\n",
       "United Arab Emirates                 16.380\n",
       "Oman                                311.700\n",
       "Occupied Palestinian Territory      179.300\n",
       "Saudi Arabia                         76.090\n",
       "Syrian Arab Republic                908.000\n",
       "Turkey                             2690.000\n",
       "Name: Total renewable water resources per capita, dtype: float64"
      ]
     },
     "execution_count": 54,
     "metadata": {},
     "output_type": "execute_result"
    }
   ],
   "source": [
    "dic['df2013'].loc[countries, :]['Total renewable water resources per capita']"
   ]
  },
  {
   "cell_type": "markdown",
   "metadata": {},
   "source": [
    "#### (3)"
   ]
  },
  {
   "cell_type": "code",
   "execution_count": 55,
   "metadata": {
    "collapsed": false
   },
   "outputs": [
    {
     "data": {
      "text/plain": [
       "0.7569184614603617"
      ]
     },
     "execution_count": 55,
     "metadata": {},
     "output_type": "execute_result"
    }
   ],
   "source": [
    "df.loc[countries, :]['Agricultural water withdrawal'].dropna().mean()"
   ]
  },
  {
   "cell_type": "markdown",
   "metadata": {},
   "source": [
    "#### (4)"
   ]
  },
  {
   "cell_type": "code",
   "execution_count": 81,
   "metadata": {
    "collapsed": false
   },
   "outputs": [
    {
     "data": {
      "text/plain": [
       "(0.27803729577410857, 0.014351394310129393)"
      ]
     },
     "execution_count": 81,
     "metadata": {},
     "output_type": "execute_result"
    }
   ],
   "source": [
    "stats.pearsonr((dic['df2003'][['Agricultural water withdrawal', \\\n",
    "                               'Total water withdrawal per capita']]).dropna()['Agricultural water withdrawal'],\\\n",
    "              (dic['df2003'][['Agricultural water withdrawal',\\\n",
    "                              'Total water withdrawal per capita']]).dropna()['Total water withdrawal per capita'])"
   ]
  },
  {
   "cell_type": "markdown",
   "metadata": {},
   "source": [
    "#### (5)"
   ]
  },
  {
   "cell_type": "code",
   "execution_count": 93,
   "metadata": {
    "collapsed": false,
    "scrolled": true
   },
   "outputs": [
    {
     "data": {
      "text/plain": [
       "Afghanistan                                  2.5\n",
       "Albania                                      1.2\n",
       "Algeria                                      2.3\n",
       "Andorra                                      1.5\n",
       "Angola                                       2.5\n",
       "Antigua and Barbuda                          NaN\n",
       "Argentina                                    2.4\n",
       "Australia                                    3.2\n",
       "Austria                                      0.9\n",
       "Bahamas                                      NaN\n",
       "Bahrain                                      3.1\n",
       "Bangladesh                                   0.7\n",
       "Barbados                                     NaN\n",
       "Belgium                                      1.0\n",
       "Belize                                       1.1\n",
       "Benin                                        1.2\n",
       "Bhutan                                       0.6\n",
       "Bolivia (Plurinational State of)             2.5\n",
       "Botswana                                     3.8\n",
       "Brazil                                       1.7\n",
       "Brunei Darussalam                            0.9\n",
       "Bulgaria                                     1.2\n",
       "Burkina Faso                                 1.5\n",
       "Burundi                                      1.4\n",
       "Cabo Verde                                   NaN\n",
       "Cambodia                                     0.6\n",
       "Cameroon                                     0.9\n",
       "Canada                                       1.2\n",
       "Central African Republic                     1.2\n",
       "Chad                                         1.9\n",
       "                                            ... \n",
       "Yemen                                        4.9\n",
       "Zambia                                       2.1\n",
       "Zimbabwe                                     3.1\n",
       "Czech Republic                               1.3\n",
       "Ethiopia                                     1.8\n",
       "Armenia                                      1.4\n",
       "Azerbaijan                                   1.4\n",
       "Belarus                                      1.1\n",
       "Bosnia and Herzegovina                       1.0\n",
       "Croatia                                      1.0\n",
       "Estonia                                      2.1\n",
       "Georgia                                      1.1\n",
       "Kazakhstan                                   2.3\n",
       "Kyrgyzstan                                   2.4\n",
       "Latvia                                       1.5\n",
       "Lithuania                                    1.1\n",
       "Republic of Moldova                          1.1\n",
       "Russian Federation                           1.5\n",
       "Slovenia                                     0.9\n",
       "Tajikistan                                   2.1\n",
       "The former Yugoslav Republic of Macedonia    1.3\n",
       "Turkmenistan                                 2.4\n",
       "Ukraine                                      1.3\n",
       "Uzbekistan                                   2.2\n",
       "Eritrea                                      4.3\n",
       "Slovakia                                     0.9\n",
       "Montenegro                                   1.0\n",
       "Serbia                                       1.0\n",
       "South Sudan                                  1.5\n",
       "Sudan                                        1.4\n",
       "Name: Interannual variability (WRI), dtype: float64"
      ]
     },
     "execution_count": 93,
     "metadata": {},
     "output_type": "execute_result"
    }
   ],
   "source": [
    "dic['df2013']['Interannual variability (WRI)']"
   ]
  },
  {
   "cell_type": "markdown",
   "metadata": {},
   "source": [
    "### Африка"
   ]
  },
  {
   "cell_type": "markdown",
   "metadata": {},
   "source": [
    "#### (7)"
   ]
  },
  {
   "cell_type": "code",
   "execution_count": 142,
   "metadata": {
    "collapsed": false
   },
   "outputs": [],
   "source": [
    "countries2 = ['Rwanda', 'Burundi', 'United Republic of Tanzania', 'Kenya',\\\n",
    "             'Democratic Republic of the Congo', 'Uganda',\\\n",
    "             'Eritrea', 'Ethiopia', 'South Sudan',\\\n",
    "             'Sudan', 'Egypt', 'Somalia']"
   ]
  },
  {
   "cell_type": "code",
   "execution_count": 143,
   "metadata": {
    "collapsed": false
   },
   "outputs": [],
   "source": [
    "data = pd.DataFrame(np.array([dic['df2013'].loc[countries2, :]['Total renewable water resources per capita'].values, countries2]).T, columns = ['Среднегодовой объем располагаемых водных ресурсов на душу населения', 'Страны'])"
   ]
  },
  {
   "cell_type": "code",
   "execution_count": 144,
   "metadata": {
    "collapsed": false
   },
   "outputs": [
    {
     "data": {
      "image/png": "[encoded data removed]",
      "text/plain": [
       "<matplotlib.figure.Figure at 0x122c7d470>"
      ]
     },
     "metadata": {},
     "output_type": "display_data"
    }
   ],
   "source": [
    "data['Среднегодовой объем располагаемых водных ресурсов на душу населения'] = data['Среднегодовой объем располагаемых водных ресурсов на душу населения'].astype(float)\n",
    "sns_plot = sns.factorplot(x='Страны', y='Среднегодовой объем располагаемых водных ресурсов на душу населения', data = data[data['Страны'] != 'Democratic Republic of the Congo'], kind=\"bar\", size = 6, aspect = 2)\n",
    "fig = sns_plot\n",
    "fig.savefig(\"output\", format = 'png', dpi = 300)\n",
    "plt.show()"
   ]
  },
  {
   "cell_type": "markdown",
   "metadata": {},
   "source": [
    "#### (8)"
   ]
  },
  {
   "cell_type": "code",
   "execution_count": 685,
   "metadata": {
    "collapsed": false
   },
   "outputs": [
    {
     "data": {
      "text/plain": [
       "Rwanda                              28.57\n",
       "Burundi                             19.75\n",
       "United Republic of Tanzania         12.75\n",
       "Kenya                               32.57\n",
       "Democratic Republic of the Congo    29.85\n",
       "Uganda                              35.11\n",
       "Eritrea                             61.72\n",
       "Ethiopia                             0.00\n",
       "South Sudan                         65.79\n",
       "Sudan                               96.13\n",
       "Egypt                               96.91\n",
       "Somalia                             59.18\n",
       "Name: Dependency ratio, dtype: float64"
      ]
     },
     "execution_count": 685,
     "metadata": {},
     "output_type": "execute_result"
    }
   ],
   "source": [
    "dic['df2013'].loc[countries2, 'Dependency ratio']"
   ]
  },
  {
   "cell_type": "markdown",
   "metadata": {},
   "source": [
    "#### (9)"
   ]
  },
  {
   "cell_type": "code",
   "execution_count": 375,
   "metadata": {
    "collapsed": true
   },
   "outputs": [],
   "source": [
    "countries3 = ['Kyrgyzstan', 'Uzbekistan', 'Tajikistan', 'Kazahstan', 'Turkmenistan']"
   ]
  },
  {
   "cell_type": "code",
   "execution_count": 376,
   "metadata": {
    "collapsed": false
   },
   "outputs": [
    {
     "data": {
      "text/plain": [
       "Kyrgyzstan      3976.0\n",
       "Uzbekistan      1635.0\n",
       "Tajikistan      2583.0\n",
       "Kazahstan          NaN\n",
       "Turkmenistan    4609.0\n",
       "Name: Total renewable water resources per capita, dtype: float64"
      ]
     },
     "execution_count": 376,
     "metadata": {},
     "output_type": "execute_result"
    }
   ],
   "source": [
    "dic['df2013'].loc[countries3, 'Total renewable water resources per capita']"
   ]
  },
  {
   "cell_type": "markdown",
   "metadata": {},
   "source": [
    "#### (10)"
   ]
  },
  {
   "cell_type": "code",
   "execution_count": 377,
   "metadata": {
    "collapsed": false
   },
   "outputs": [
    {
     "data": {
      "text/plain": [
       "Kyrgyzstan      0.010993\n",
       "Uzbekistan      0.000270\n",
       "Tajikistan      0.006614\n",
       "Kazahstan            NaN\n",
       "Turkmenistan    0.001498\n",
       "Name: Agricultural water withdrawal, dtype: float64"
      ]
     },
     "execution_count": 377,
     "metadata": {},
     "output_type": "execute_result"
    }
   ],
   "source": [
    "df.loc[countries3, 'Agricultural water withdrawal']"
   ]
  },
  {
   "cell_type": "code",
   "execution_count": 635,
   "metadata": {
    "collapsed": false
   },
   "outputs": [
    {
     "data": {
      "text/plain": [
       "Rwanda                              28.57\n",
       "Burundi                             19.75\n",
       "United Republic of Tanzania         12.75\n",
       "Kenya                               32.57\n",
       "Democratic Republic of the Congo    29.85\n",
       "Uganda                              35.11\n",
       "Eritrea                             61.72\n",
       "Ethiopia                             0.00\n",
       "South Sudan                         65.79\n",
       "Sudan                               96.13\n",
       "Egypt                               96.91\n",
       "Somalia                             59.18\n",
       "Name: Dependency ratio, dtype: float64"
      ]
     },
     "execution_count": 635,
     "metadata": {},
     "output_type": "execute_result"
    }
   ],
   "source": [
    "df.loc[countries2, 'Dependency ratio']"
   ]
  },
  {
   "cell_type": "markdown",
   "metadata": {},
   "source": [
    "#### (11)"
   ]
  },
  {
   "cell_type": "code",
   "execution_count": 691,
   "metadata": {
    "collapsed": false,
    "scrolled": true
   },
   "outputs": [
    {
     "data": {
      "text/plain": [
       "Rwanda                              12.1279\n",
       "Burundi                             15.2369\n",
       "United Republic of Tanzania         14.1654\n",
       "Kenya                               12.1279\n",
       "Democratic Republic of the Congo     21.455\n",
       "Uganda                              12.1279\n",
       "Eritrea                               61.72\n",
       "Ethiopia                            12.1279\n",
       "South Sudan                           65.79\n",
       "Sudan                               8.08528\n",
       "Egypt                               8.08528\n",
       "Somalia                               59.18\n",
       "Name: Cooperation Index, dtype: object"
      ]
     },
     "execution_count": 691,
     "metadata": {},
     "output_type": "execute_result"
    }
   ],
   "source": [
    "# Чисто Нил - это только Египет и Судан\n",
    "df.loc[countries2, 'Cooperation Index']"
   ]
  },
  {
   "cell_type": "code",
   "execution_count": 687,
   "metadata": {
    "collapsed": false
   },
   "outputs": [
    {
     "data": {
      "text/plain": [
       "Kyrgyzstan      15.6568\n",
       "Uzbekistan      10.9639\n",
       "Tajikistan      10.9639\n",
       "Kazahstan           NaN\n",
       "Turkmenistan    10.9639\n",
       "Name: Cooperation Index, dtype: object"
      ]
     },
     "execution_count": 687,
     "metadata": {},
     "output_type": "execute_result"
    }
   ],
   "source": [
    "df.loc[countries3, 'Cooperation Index']"
   ]
  }
 ],
 "metadata": {
  "kernelspec": {
   "display_name": "Python 3",
   "language": "python",
   "name": "python3"
  },
  "language_info": {
   "codemirror_mode": {
    "name": "ipython",
    "version": 3
   },
   "file_extension": ".py",
   "mimetype": "text/x-python",
   "name": "python",
   "nbconvert_exporter": "python",
   "pygments_lexer": "ipython3",
   "version": "3.5.1"
  }
 },
 "nbformat": 4,
 "nbformat_minor": 0
}
